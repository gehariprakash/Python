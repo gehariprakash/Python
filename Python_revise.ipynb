{
  "cells": [
    {
      "cell_type": "markdown",
      "metadata": {
        "id": "view-in-github",
        "colab_type": "text"
      },
      "source": [
        "<a href=\"https://colab.research.google.com/github/gehariprakash/Python/blob/main/Python_revise.ipynb\" target=\"_parent\"><img src=\"https://colab.research.google.com/assets/colab-badge.svg\" alt=\"Open In Colab\"/></a>"
      ]
    },
    {
      "cell_type": "markdown",
      "id": "21fb2271",
      "metadata": {
        "id": "21fb2271"
      },
      "source": [
        "# Python\n",
        "- It is a high level programming language\n",
        "- It was found by Guido Van Rassum\n",
        "- First released in 1991\n",
        "- Implementations\n",
        "- Interpreter based Language\n",
        "- Easy to build Packages\n",
        "- supports multiple programming paradigms"
      ]
    },
    {
      "cell_type": "markdown",
      "id": "923e170d",
      "metadata": {
        "id": "923e170d"
      },
      "source": [
        "#### 1) What is Python ?\n",
        "- Python was created by Guido Van Rossum\n",
        "- It is a general-purpose computer language. It is a high-level, object-oriented language which can run equally on different platforms such as windows,Linux,Unix and Macintosh. Its a high-level built in data stractures, combined with dynamic typing and dynamic binding. it is widely used in data science, machine learning and artificial intelligence domain.\n",
        "\n",
        "- it is easy to learn and require less code to develop the applications.\n",
        "\n",
        "It is widely used for:\n",
        "- Web development(server-side)\n",
        "- Software development.\n",
        "- Mathmatics.\n",
        "- Sytem scripting."
      ]
    },
    {
      "cell_type": "markdown",
      "id": "40cf4424",
      "metadata": {
        "id": "40cf4424"
      },
      "source": [
        "#### 2) Why python ?\n",
        "- Python is an interpreted, oject-oriented, high-level programming language with dynamic semantics.\n",
        "- Python is compatible with different platforms like Windows, Mac, Linux, Raspberry pi, etc.\n",
        "- Python has a simple syntax as compared to other languages\n",
        "- Python runs on an interpreter system, means that the code can be executed as soon as it is written. It helps to provide a prototype very quickly.\n",
        "- Python allows a developer to write programs with fewer lines than some other programming languages.\n",
        "- Python can be described as a procedural way, an object-oriented way or a functional way.\n",
        "- The python interpreter and the extensive standard library are available in source or binary form without charge for all major platforms, and can be freely distributed"
      ]
    },
    {
      "cell_type": "markdown",
      "id": "bff22529",
      "metadata": {
        "id": "bff22529"
      },
      "source": [
        "#### 3) What are the applications of Python ?\n",
        "Python is used in various software domains some application areas are given below.\n",
        "- Web and internet Development\n",
        "- Games\n",
        "- Scientific and computational applications\n",
        "- Language development\n",
        "- Image processing and graphic design applications\n",
        "- Operating systems\n",
        "- Gui based desktop applications\n",
        "\n",
        "Python provides various web frameworks to develop web applications. The popular python web frameworks are Django, Pyramid, Flask.\n",
        "\n",
        "Python's standard library supports for E-mail Processing, FTP, IMAp, and other Internet protocols\n",
        "\n",
        "Python's Scipy and Numpy helps in scientific and computational application development.\n",
        "\n",
        "Python's Tkinter library supports to create a desktop based GUI applications\n"
      ]
    },
    {
      "cell_type": "markdown",
      "id": "e69912a4",
      "metadata": {
        "id": "e69912a4"
      },
      "source": [
        "#### 4) What are the advantages of Python?\n",
        "Advantages of python are:\n",
        "   - Python is Interpreted Language\n",
        "\n",
        "Interpreted: Python is an interpreted language. It does not require compilation of code and  executes instructions\n",
        "   - It is free and open source\n",
        "\n",
        "Free and open source: It is an Open-source project which is publicaly available to reuse.It can be downloaded free of cost.\n",
        "   - It is Extensible\n",
        "\n",
        "Extensible:It is very flexible and extensible with any module.\n",
        "   - It has built-in data stracture\n",
        "\n",
        "Built-in data structre: Tuple,List, and Dictionary are Useful integrated data structures provided by the language.\n",
        "   - Readability\n",
        "   - High-level language\n",
        "   - Cross-platform\n",
        "\n",
        "Portable: Python Programs can run on cross platforms without affecting its performance.\n",
        "\n"
      ]
    },
    {
      "cell_type": "markdown",
      "id": "b035d232",
      "metadata": {
        "id": "b035d232"
      },
      "source": [
        "#### 5) What is PEP8?\n",
        "PEP 8 stands for Python Enhacement Proposal, It can be defined as a Document that helps us to provide the guidelines on how to write the Python code. It is basically a set of rules that specify how to format Python code for maximum readability. It was written by Guido Van Rossum, Barry and Nick Coghlan in 2001"
      ]
    },
    {
      "cell_type": "markdown",
      "id": "4a9be995",
      "metadata": {
        "id": "4a9be995"
      },
      "source": [
        "#### 6) What do you mean by Python literals?\n",
        "Literals can be defined as a data which is given in a variable or constant. Python suppports the following literals:\n",
        "#### String Literals\n",
        "string literals are formed by enclosing text in single or double quotes. for example, string literals are string values"
      ]
    },
    {
      "cell_type": "code",
      "execution_count": null,
      "id": "e7e64702",
      "metadata": {
        "id": "e7e64702",
        "outputId": "b0f6ee1e-2d09-4a26-f910-30708bca7b36"
      },
      "outputs": [
        {
          "name": "stdout",
          "output_type": "stream",
          "text": [
            "Hari\n",
            "Hari\n",
            "\"Hari Prakash Goud\"\n"
          ]
        }
      ],
      "source": [
        "# Example\n",
        "# In single quotes\n",
        "single = 'Hari'\n",
        "# In Double quotes\n",
        "double = \"Hari\"\n",
        "# In Multi-line String\n",
        "multi = '\"Hari Prakash Goud\"'\n",
        "print(single)\n",
        "print(double)\n",
        "print(multi)"
      ]
    },
    {
      "cell_type": "markdown",
      "id": "30b51318",
      "metadata": {
        "id": "30b51318"
      },
      "source": [
        "#### Numeric Literals\n",
        "Python supports three types of numeric literals integer, float and complex."
      ]
    },
    {
      "cell_type": "code",
      "execution_count": null,
      "id": "78df0d56",
      "metadata": {
        "id": "78df0d56",
        "outputId": "58e230d0-45dc-4dc8-ed70-3acd53ef6b76"
      },
      "outputs": [
        {
          "name": "stdout",
          "output_type": "stream",
          "text": [
            "10\n",
            "12.3\n",
            "3.14j\n"
          ]
        }
      ],
      "source": [
        "# Example\n",
        "#Integer literal\n",
        "a=10\n",
        "#float Literal\n",
        "b=12.3\n",
        "#complexliteral\n",
        "x=3.14j\n",
        "print(a)\n",
        "print(b)\n",
        "print(x)"
      ]
    },
    {
      "cell_type": "markdown",
      "id": "859458cf",
      "metadata": {
        "id": "859458cf"
      },
      "source": [
        "#### Boolean Literals\n",
        "Boolean literals are used to denote Boolean values. It contains either True or False.\n"
      ]
    },
    {
      "cell_type": "code",
      "execution_count": null,
      "id": "b18d9d62",
      "metadata": {
        "id": "b18d9d62",
        "outputId": "d54a7868-9007-4c17-f107-b6d5bd9182f2"
      },
      "outputs": [
        {
          "name": "stdout",
          "output_type": "stream",
          "text": [
            "p is True\n",
            "q is False\n",
            "r 4\n",
            "s 7\n"
          ]
        }
      ],
      "source": [
        "#example\n",
        "p=(1==True)\n",
        "q=(1==False)\n",
        "r=True+3\n",
        "s=False+7\n",
        "print(\"p is\" ,p)\n",
        "print(\"q is\",q)\n",
        "print(\"r\",r)\n",
        "print(\"s\",s)"
      ]
    },
    {
      "cell_type": "markdown",
      "id": "4cbee759",
      "metadata": {
        "id": "4cbee759"
      },
      "source": [
        "#### special literals\n",
        "Python contains one special literal, that is,'None'. This special literal is used for defining a null variable. If 'None' is compared with anything else other than a 'None', It will return false"
      ]
    },
    {
      "cell_type": "code",
      "execution_count": null,
      "id": "19e4342a",
      "metadata": {
        "scrolled": true,
        "id": "19e4342a",
        "outputId": "764e39d5-26c1-4078-ce7e-8d8b92450a77"
      },
      "outputs": [
        {
          "name": "stdout",
          "output_type": "stream",
          "text": [
            "None\n"
          ]
        }
      ],
      "source": [
        "Word = None\n",
        "print(Word)"
      ]
    },
    {
      "cell_type": "markdown",
      "id": "9586d6fd",
      "metadata": {
        "id": "9586d6fd"
      },
      "source": [
        "#### Explain Python Functions ?\n",
        "A function is a section of the program or a block of code that is written once and can be executed whenever required in the program. A function is a block of self-contained statements which has a valid name,parameters list, and body. Functions make programming more fucntional and modular to perform modular tasks. Python provides sveral built-in functions to complete tasks and also allows a user to creative new functions as well.\n",
        "There are three types of functions:\n",
        "   - Built-infunctions: copy(),Len(),Count() are the some Built in functions.\n",
        "   - User defined Functions: Functions which are defined by a user known as user defined functions\n",
        "   - Anonynous Funtions: These functions are also known as lambda functions because they are not declared with the standard def keyword\n",
        "\n",
        "Example: A general syntax of user defined function is given below."
      ]
    },
    {
      "cell_type": "code",
      "execution_count": null,
      "id": "edfa3a5d",
      "metadata": {
        "id": "edfa3a5d",
        "outputId": "d15ac53e-9c70-4f90-d32e-b925cd134a08"
      },
      "outputs": [
        {
          "ename": "SyntaxError",
          "evalue": "invalid syntax (862916907.py, line 1)",
          "output_type": "error",
          "traceback": [
            "\u001b[1;36m  Cell \u001b[1;32mIn [5], line 1\u001b[1;36m\u001b[0m\n\u001b[1;33m    def funtion_name(parameters list):\u001b[0m\n\u001b[1;37m                                ^\u001b[0m\n\u001b[1;31mSyntaxError\u001b[0m\u001b[1;31m:\u001b[0m invalid syntax\n"
          ]
        }
      ],
      "source": [
        "def funtion_name(parameters list):\n",
        "    #---statements---\n",
        "    return a_value"
      ]
    },
    {
      "cell_type": "code",
      "execution_count": null,
      "id": "23a70654",
      "metadata": {
        "id": "23a70654",
        "outputId": "c2ccac7f-deae-4a5b-8cc5-c518fe2f410a"
      },
      "outputs": [
        {
          "name": "stdout",
          "output_type": "stream",
          "text": [
            "16777216\n"
          ]
        }
      ],
      "source": [
        "x=8\n",
        "y=8\n",
        "def squared(x,y):\n",
        "    return x**y\n",
        "print(squared(x,y))"
      ]
    },
    {
      "cell_type": "markdown",
      "id": "726cd9e4",
      "metadata": {
        "id": "726cd9e4"
      },
      "source": [
        "### Variables\n"
      ]
    },
    {
      "cell_type": "code",
      "execution_count": null,
      "id": "b0b309ea",
      "metadata": {
        "id": "b0b309ea",
        "outputId": "7bc9f47f-e636-4cca-da67-d9975f0ff6eb"
      },
      "outputs": [
        {
          "name": "stdout",
          "output_type": "stream",
          "text": [
            "Hari\n"
          ]
        }
      ],
      "source": [
        "name = \"Hari\"\n",
        "print(name)"
      ]
    },
    {
      "cell_type": "code",
      "execution_count": null,
      "id": "888687bd",
      "metadata": {
        "id": "888687bd",
        "outputId": "4b953ad5-55d0-4662-f1ca-4bf661bb63f7"
      },
      "outputs": [
        {
          "name": "stdout",
          "output_type": "stream",
          "text": [
            "Enter your name : \n",
            "Welcome \n"
          ]
        }
      ],
      "source": [
        "name=input(\"Enter your name : \")\n",
        "print(\"Welcome\",name)"
      ]
    },
    {
      "cell_type": "markdown",
      "id": "8942b72b",
      "metadata": {
        "id": "8942b72b"
      },
      "source": [
        "### Data types in Python\n",
        "- Here in the below piece of code you can see that we have assigned each variable with a particular value and use the type method we can check the datatype of the variable\n"
      ]
    },
    {
      "cell_type": "code",
      "execution_count": null,
      "id": "28f9c7c4",
      "metadata": {
        "id": "28f9c7c4",
        "outputId": "f3584f48-7e4e-44f4-a442-f2277ae52e40"
      },
      "outputs": [
        {
          "name": "stdout",
          "output_type": "stream",
          "text": [
            "<class 'int'>\n",
            "<class 'tuple'>\n",
            "<class 'str'>\n",
            "<class 'bool'>\n"
          ]
        }
      ],
      "source": [
        "integer_num = 1\n",
        "floating_num = 1,3\n",
        "string = \"Hari\"\n",
        "boolean = True\n",
        "print(type(integer_num))\n",
        "print(type(floating_num))\n",
        "print(type(string))\n",
        "print(type(boolean))"
      ]
    },
    {
      "cell_type": "markdown",
      "id": "6b850daa",
      "metadata": {
        "id": "6b850daa"
      },
      "source": [
        "- Type Casting in Python"
      ]
    },
    {
      "cell_type": "code",
      "execution_count": null,
      "id": "3ee5d39e",
      "metadata": {
        "scrolled": true,
        "id": "3ee5d39e",
        "outputId": "5896c96e-deb1-4a1b-f968-dec33e785128"
      },
      "outputs": [
        {
          "name": "stdout",
          "output_type": "stream",
          "text": [
            "True\n",
            "1.0\n",
            "1\n"
          ]
        }
      ],
      "source": [
        "a =  1\n",
        "print(bool(a))\n",
        "print(float(a))\n",
        "print(str(a))"
      ]
    },
    {
      "cell_type": "markdown",
      "id": "19262f2d",
      "metadata": {
        "id": "19262f2d"
      },
      "source": [
        "<h2 style=\"color:Brown\">Arithmatic Operations"
      ]
    },
    {
      "cell_type": "code",
      "execution_count": null,
      "id": "69b4201f",
      "metadata": {
        "id": "69b4201f",
        "outputId": "e9bdb36f-383c-4ff8-82d4-0f439e5f40c7"
      },
      "outputs": [
        {
          "name": "stdout",
          "output_type": "stream",
          "text": [
            "Addition =  13\n",
            "Substraction =  -1\n",
            "Multiplication =  42\n",
            "Division 0.8571428571428571\n"
          ]
        }
      ],
      "source": [
        "a=6\n",
        "b=7\n",
        "print(\"Addition = \",a+b)\n",
        "print(\"Substraction = \",a-b)\n",
        "print(\"Multiplication = \",a * b)\n",
        "print(\"Division\",a/b)"
      ]
    },
    {
      "cell_type": "code",
      "execution_count": null,
      "id": "3f675319",
      "metadata": {
        "id": "3f675319",
        "outputId": "4309f64c-4dc9-4480-991a-76da690e38c4"
      },
      "outputs": [
        {
          "name": "stdout",
          "output_type": "stream",
          "text": [
            "Floor division 0\n"
          ]
        }
      ],
      "source": [
        "#floor division\n",
        "print(\"Floor division\",a//b)"
      ]
    },
    {
      "cell_type": "code",
      "execution_count": null,
      "id": "dc9e8516",
      "metadata": {
        "id": "dc9e8516",
        "outputId": "3f9e814b-ba45-42a4-98ba-fc7e1df7cd7b"
      },
      "outputs": [
        {
          "name": "stdout",
          "output_type": "stream",
          "text": [
            "Modulus or remainder 6\n"
          ]
        }
      ],
      "source": [
        "#Remainder\n",
        "print(\"Modulus or remainder\",a%b)"
      ]
    },
    {
      "cell_type": "code",
      "execution_count": null,
      "id": "0b001d06",
      "metadata": {
        "scrolled": true,
        "id": "0b001d06",
        "outputId": "52ef325c-78f7-4013-fbb6-c1125b8fe783"
      },
      "outputs": [
        {
          "name": "stdout",
          "output_type": "stream",
          "text": [
            "Exponential =  279936\n"
          ]
        }
      ],
      "source": [
        "#Exponential\n",
        "print(\"Exponential = \",a**b)"
      ]
    },
    {
      "cell_type": "code",
      "execution_count": null,
      "id": "71637210",
      "metadata": {
        "id": "71637210",
        "outputId": "6b84e90c-c559-4fec-8f17-a54d1f56da71"
      },
      "outputs": [
        {
          "name": "stdout",
          "output_type": "stream",
          "text": [
            "11.857142857142858\n"
          ]
        }
      ],
      "source": [
        "print((4*5)-9+6/7)"
      ]
    },
    {
      "cell_type": "markdown",
      "id": "84d21dd5",
      "metadata": {
        "id": "84d21dd5"
      },
      "source": [
        "<h2 style=\"color:Brown\">String Operations"
      ]
    },
    {
      "cell_type": "code",
      "execution_count": null,
      "id": "55cd2241",
      "metadata": {
        "id": "55cd2241"
      },
      "outputs": [],
      "source": [
        "#Whenever we are assigning a char or string we use ''which represents a character\n",
        "c = 'z'\n",
        "d = 'Mike'\n",
        "#you can also use \" \" double quotes instead of single quotes for strings\n",
        "e = \"John\""
      ]
    },
    {
      "cell_type": "markdown",
      "id": "14931da2",
      "metadata": {
        "id": "14931da2"
      },
      "source": [
        "Indexing In Strings\n",
        "- Forward indexing starts with 0\n",
        "- Reverse indexing start with last character as -1 in a python string\n",
        "- Strings are immutable which means they cannot be changed once created\n",
        "- Strings can be modified by slicing a part of it and concatenating with another"
      ]
    },
    {
      "cell_type": "code",
      "execution_count": null,
      "id": "aba73811",
      "metadata": {
        "id": "aba73811",
        "outputId": "78b90179-840a-4950-a8a7-ea4a655a4ae3"
      },
      "outputs": [
        {
          "data": {
            "text/plain": [
              "8"
            ]
          },
          "execution_count": 18,
          "metadata": {},
          "output_type": "execute_result"
        }
      ],
      "source": [
        "#len() function\n",
        "string = \"ABCDEFGH\"\n",
        "len(string)"
      ]
    },
    {
      "cell_type": "code",
      "execution_count": null,
      "id": "b48200cc",
      "metadata": {
        "id": "b48200cc",
        "outputId": "46970f31-3312-4157-d110-f596cf9cc3e8"
      },
      "outputs": [
        {
          "data": {
            "text/plain": [
              "'A'"
            ]
          },
          "execution_count": 19,
          "metadata": {},
          "output_type": "execute_result"
        }
      ],
      "source": [
        "string[0]"
      ]
    },
    {
      "cell_type": "code",
      "execution_count": null,
      "id": "8f92dd05",
      "metadata": {
        "id": "8f92dd05",
        "outputId": "ecd02f5e-2c39-4fd5-ecc4-e6911b58cc28"
      },
      "outputs": [
        {
          "data": {
            "text/plain": [
              "'H'"
            ]
          },
          "execution_count": 20,
          "metadata": {},
          "output_type": "execute_result"
        }
      ],
      "source": [
        "string[-1]"
      ]
    },
    {
      "cell_type": "code",
      "execution_count": null,
      "id": "029ff75b",
      "metadata": {
        "id": "029ff75b",
        "outputId": "d988cf59-4327-4b54-f49c-ffd8d4834a55"
      },
      "outputs": [
        {
          "ename": "TypeError",
          "evalue": "'str' object does not support item assignment",
          "output_type": "error",
          "traceback": [
            "\u001b[1;31m---------------------------------------------------------------------------\u001b[0m",
            "\u001b[1;31mTypeError\u001b[0m                                 Traceback (most recent call last)",
            "Cell \u001b[1;32mIn [21], line 1\u001b[0m\n\u001b[1;32m----> 1\u001b[0m \u001b[43mstring\u001b[49m\u001b[43m[\u001b[49m\u001b[38;5;241;43m2\u001b[39;49m\u001b[43m]\u001b[49m \u001b[38;5;241m=\u001b[39m \u001b[38;5;124m'\u001b[39m\u001b[38;5;124mt\u001b[39m\u001b[38;5;124m'\u001b[39m\n",
            "\u001b[1;31mTypeError\u001b[0m: 'str' object does not support item assignment"
          ]
        }
      ],
      "source": [
        "string[2] = 't'"
      ]
    },
    {
      "cell_type": "code",
      "execution_count": null,
      "id": "4c1dee4c",
      "metadata": {
        "id": "4c1dee4c",
        "outputId": "9b251b4b-25f4-4af3-e24a-40cc71c5de2e"
      },
      "outputs": [
        {
          "name": "stdout",
          "output_type": "stream",
          "text": [
            "ghijkl\n"
          ]
        }
      ],
      "source": [
        "#changing the entire string\n",
        "string = 'ghijkl'\n",
        "print(string)"
      ]
    },
    {
      "cell_type": "code",
      "execution_count": null,
      "id": "f7862f42",
      "metadata": {
        "id": "f7862f42",
        "outputId": "27132712-c6c1-4170-b1d0-2e98454dde80"
      },
      "outputs": [
        {
          "name": "stdout",
          "output_type": "stream",
          "text": [
            "Monty Python\n"
          ]
        }
      ],
      "source": [
        "# string concatenation\n",
        "\n",
        "first_name = \"Monty\"\n",
        "last_name = 'Python'\n",
        "name = first_name + \" \" + last_name\n",
        "print(name)"
      ]
    },
    {
      "cell_type": "code",
      "execution_count": null,
      "id": "44932fb0",
      "metadata": {
        "id": "44932fb0",
        "outputId": "15e20597-033f-4095-c841-b0d8dab13f35"
      },
      "outputs": [
        {
          "name": "stdout",
          "output_type": "stream",
          "text": [
            "I am 30 years old\n"
          ]
        }
      ],
      "source": [
        "# type casting using str() function\n",
        "age = 30\n",
        "print(\"I am \"+ str(age)+\" years old\")"
      ]
    },
    {
      "cell_type": "markdown",
      "id": "8e2a3f2b",
      "metadata": {
        "id": "8e2a3f2b"
      },
      "source": [
        "## Slicing in Strings\n",
        " - string[start:end:step]"
      ]
    },
    {
      "cell_type": "code",
      "execution_count": null,
      "id": "6a7ffafc",
      "metadata": {
        "id": "6a7ffafc",
        "outputId": "126b1c4b-5791-4553-9687-ce8638920077"
      },
      "outputs": [
        {
          "name": "stdout",
          "output_type": "stream",
          "text": [
            "Python \n"
          ]
        }
      ],
      "source": [
        "#slicing by specifying start and end index\n",
        "statement = \"Python Programming is fun\"\n",
        "sliced_statement = statement[0:7]\n",
        "print(sliced_statement)"
      ]
    },
    {
      "cell_type": "code",
      "execution_count": null,
      "id": "f15d1373",
      "metadata": {
        "id": "f15d1373",
        "outputId": "37e8fcb4-e2de-4bda-ea69-fa68c425a9b5"
      },
      "outputs": [
        {
          "name": "stdout",
          "output_type": "stream",
          "text": [
            "5 girls \n",
            "3 boys in a class\n"
          ]
        }
      ],
      "source": [
        "batch = \"5 girls 3 boys in a class\"\n",
        "girls = batch[ :8]\n",
        "print(girls)\n",
        "\n",
        "print(batch[ 8: ])"
      ]
    },
    {
      "cell_type": "code",
      "execution_count": null,
      "id": "20932fff",
      "metadata": {
        "id": "20932fff",
        "outputId": "9e41b607-56a5-4a19-a7b8-eaa88350bc46"
      },
      "outputs": [
        {
          "name": "stdout",
          "output_type": "stream",
          "text": [
            "2468\n"
          ]
        }
      ],
      "source": [
        "# slicing by specifing range\n",
        "\n",
        "nums = '123456789'\n",
        "even_nums = nums[1::2]\n",
        "print(even_nums)"
      ]
    },
    {
      "cell_type": "code",
      "execution_count": null,
      "id": "79f98ca7",
      "metadata": {
        "id": "79f98ca7",
        "outputId": "6025a6c4-87b1-4e83-9773-306455826a8a"
      },
      "outputs": [
        {
          "name": "stdout",
          "output_type": "stream",
          "text": [
            "13579\n"
          ]
        }
      ],
      "source": [
        "#Printing odd_nums\n",
        "\n",
        "odd_nums = nums[0::2]\n",
        "print(odd_nums)"
      ]
    },
    {
      "cell_type": "code",
      "execution_count": null,
      "id": "5de1519a",
      "metadata": {
        "id": "5de1519a",
        "outputId": "514c1869-ba54-44a4-d4e7-c8f69c472fe8"
      },
      "outputs": [
        {
          "name": "stdout",
          "output_type": "stream",
          "text": [
            "True\n",
            "True\n"
          ]
        }
      ],
      "source": [
        "# Membership\n",
        "string = \"John! Did you attend the conference on advanced machine learning\"\n",
        "print( \"John\" in string)\n",
        "print( 'David' not in string)"
      ]
    },
    {
      "cell_type": "code",
      "execution_count": null,
      "id": "c2ae8970",
      "metadata": {
        "id": "c2ae8970",
        "outputId": "20080a33-cd34-48e0-df97-9ea8de5f23a3"
      },
      "outputs": [
        {
          "name": "stdout",
          "output_type": "stream",
          "text": [
            "abcdabcdabcdabcd\n"
          ]
        }
      ],
      "source": [
        "# Repeatition\n",
        "string = \"abcd\"\n",
        "print(string*4)"
      ]
    },
    {
      "cell_type": "markdown",
      "id": "cf487fdd",
      "metadata": {
        "id": "cf487fdd"
      },
      "source": [
        "### String methods\n",
        "- upper()\n",
        "- lower()\n",
        "- strip()\n",
        "- count(substring,begin,end)\n",
        "-https://docs.python.org/3.7/librar/stdstypes.html#string-methods"
      ]
    },
    {
      "cell_type": "code",
      "execution_count": null,
      "id": "d36b6c75",
      "metadata": {
        "id": "d36b6c75",
        "outputId": "1da5a4b8-58af-4f01-821d-fff23b04cfa3"
      },
      "outputs": [
        {
          "name": "stdout",
          "output_type": "stream",
          "text": [
            "I AM UPPER CASED\n"
          ]
        }
      ],
      "source": [
        "#upper()\n",
        "small = \"i am upper cased\"\n",
        "print(small.upper())"
      ]
    },
    {
      "cell_type": "code",
      "execution_count": null,
      "id": "7d2b1040",
      "metadata": {
        "id": "7d2b1040",
        "outputId": "a0e11979-5fed-4ea0-c226-71e335b9c823"
      },
      "outputs": [
        {
          "name": "stdout",
          "output_type": "stream",
          "text": [
            "i am lower cased\n"
          ]
        }
      ],
      "source": [
        "#lower()\n",
        "large = \"I AM LOWER CASED\"\n",
        "print(large.lower())"
      ]
    },
    {
      "cell_type": "code",
      "execution_count": null,
      "id": "43f60205",
      "metadata": {
        "id": "43f60205",
        "outputId": "cca10870-9aa9-4eb5-848f-6b5eecf5a6ce"
      },
      "outputs": [
        {
          "name": "stdout",
          "output_type": "stream",
          "text": [
            "There is a space at the end   \n",
            "There is a space at the end\n"
          ]
        }
      ],
      "source": [
        "# rstrip() function\n",
        "some_sentences = \"There is a space at the end   \"\n",
        "print(some_sentences)\n",
        "print(some_sentences.rstrip())"
      ]
    },
    {
      "cell_type": "code",
      "execution_count": null,
      "id": "87e71a00",
      "metadata": {
        "id": "87e71a00",
        "outputId": "b3f0c15f-69fc-4309-aab1-89d3d3e01515"
      },
      "outputs": [
        {
          "name": "stdout",
          "output_type": "stream",
          "text": [
            "4\n"
          ]
        }
      ],
      "source": [
        "increment = '4%'\n",
        "print(increment.rstrip('%'))"
      ]
    },
    {
      "cell_type": "code",
      "execution_count": null,
      "id": "301e84e2",
      "metadata": {
        "id": "301e84e2",
        "outputId": "a30e6d57-9cbd-4b9d-f42a-5c781ce160e7"
      },
      "outputs": [
        {
          "name": "stdout",
          "output_type": "stream",
          "text": [
            "    There is space at the the start\n",
            "There is space at the the start\n"
          ]
        }
      ],
      "source": [
        "# lstrip() function\n",
        "start = \"    There is space at the the start\"\n",
        "print(start)\n",
        "print(start.lstrip())\n"
      ]
    },
    {
      "cell_type": "code",
      "execution_count": null,
      "id": "2e8df911",
      "metadata": {
        "id": "2e8df911",
        "outputId": "edcb6c10-e046-4d46-ff9e-e79d2c856dc3"
      },
      "outputs": [
        {
          "name": "stdout",
          "output_type": "stream",
          "text": [
            "  Trim whitespaces  \n",
            "Trim whitespaces\n"
          ]
        }
      ],
      "source": [
        "# strip() function\n",
        "spaces = \"  Trim whitespaces  \"\n",
        "print(spaces)\n",
        "print(spaces.strip())"
      ]
    },
    {
      "cell_type": "code",
      "execution_count": null,
      "id": "5c58577f",
      "metadata": {
        "id": "5c58577f",
        "outputId": "bb483b42-e2f4-4275-cc32-fadde6e6c162"
      },
      "outputs": [
        {
          "name": "stdout",
          "output_type": "stream",
          "text": [
            "444\n"
          ]
        }
      ],
      "source": [
        "num_with_chars = '******444####'\n",
        "print(num_with_chars.rstrip('#').lstrip('*'))"
      ]
    },
    {
      "cell_type": "code",
      "execution_count": null,
      "id": "bb78b45e",
      "metadata": {
        "id": "bb78b45e",
        "outputId": "e96e010a-ce32-4cb8-9e9b-b86f6e6171f2"
      },
      "outputs": [
        {
          "name": "stdout",
          "output_type": "stream",
          "text": [
            "3\n",
            "2\n"
          ]
        }
      ],
      "source": [
        "#count() method\n",
        "string = \"This is a simple sentence\"\n",
        "print(string.count('i'))\n",
        "print(string.count('i',5))"
      ]
    },
    {
      "cell_type": "code",
      "execution_count": null,
      "id": "3170c8d9",
      "metadata": {
        "id": "3170c8d9"
      },
      "outputs": [],
      "source": [
        "My_age = \"I am {} years old\".format(age)"
      ]
    },
    {
      "cell_type": "code",
      "execution_count": null,
      "id": "00be29fb",
      "metadata": {
        "id": "00be29fb",
        "outputId": "8d4f210e-d0d0-485e-adf9-c065593c791b"
      },
      "outputs": [
        {
          "name": "stdout",
          "output_type": "stream",
          "text": [
            "Data Analysis using Pandas\n"
          ]
        }
      ],
      "source": [
        "# r/R It is used to specify the raw string.% It is used to perform string formatting.\n",
        "A = \"Data\"\n",
        "B = \"Analysis\"\n",
        "C = \"Pandas\"\n",
        "\n",
        "print(\"{} {} using {}\".format(A,B,C))"
      ]
    },
    {
      "cell_type": "code",
      "execution_count": null,
      "id": "a74b5219",
      "metadata": {
        "id": "a74b5219",
        "outputId": "31a6e46f-b0e9-4421-9310-2f4e64a104bd"
      },
      "outputs": [
        {
          "data": {
            "text/plain": [
              "'e'"
            ]
          },
          "execution_count": 41,
          "metadata": {},
          "output_type": "execute_result"
        }
      ],
      "source": [
        "x = 'len'\n",
        "x[len(x * 2) - 5]"
      ]
    },
    {
      "cell_type": "code",
      "execution_count": null,
      "id": "08c4a91c",
      "metadata": {
        "id": "08c4a91c",
        "outputId": "5021337c-3a1c-449c-b502-f65bd3e03333"
      },
      "outputs": [
        {
          "name": "stdout",
          "output_type": "stream",
          "text": [
            ",\n"
          ]
        }
      ],
      "source": [
        "import ast,sys\n",
        "input_str  = sys.stdin.read()\n",
        "message1 = input_str[0:-1:2]\n",
        "message2 = input_str[1:len(input_str):2]\n",
        "print(message1.strip('#') + \",\" + message2.strip('#'))"
      ]
    },
    {
      "cell_type": "code",
      "execution_count": null,
      "id": "3ed5e4d2",
      "metadata": {
        "id": "3ed5e4d2",
        "outputId": "4e839b5c-1c90-4fef-a9b6-3c4970164a20"
      },
      "outputs": [
        {
          "ename": "NameError",
          "evalue": "name 'bmaunmdbraai' is not defined",
          "output_type": "error",
          "traceback": [
            "\u001b[1;31m---------------------------------------------------------------------------\u001b[0m",
            "\u001b[1;31mNameError\u001b[0m                                 Traceback (most recent call last)",
            "Cell \u001b[1;32mIn [43], line 2\u001b[0m\n\u001b[0;32m      1\u001b[0m \u001b[38;5;28;01mimport\u001b[39;00m \u001b[38;5;21;01mast\u001b[39;00m\u001b[38;5;241m,\u001b[39m\u001b[38;5;21;01msys\u001b[39;00m\n\u001b[1;32m----> 2\u001b[0m input_str \u001b[38;5;241m=\u001b[39m \u001b[43mbmaunmdbraai\u001b[49m\n\u001b[0;32m      3\u001b[0m input_str \u001b[38;5;241m=\u001b[39m sys\u001b[38;5;241m.\u001b[39mstdin\u001b[38;5;241m.\u001b[39mread()\n\u001b[0;32m      4\u001b[0m message1 \u001b[38;5;241m=\u001b[39m input_str[\u001b[38;5;241m0\u001b[39m:\u001b[38;5;241m-\u001b[39m\u001b[38;5;241m1\u001b[39m:\u001b[38;5;241m2\u001b[39m]\n",
            "\u001b[1;31mNameError\u001b[0m: name 'bmaunmdbraai' is not defined"
          ]
        }
      ],
      "source": [
        "import ast,sys\n",
        "input_str = bmaunmdbraai\n",
        "input_str = sys.stdin.read()\n",
        "message1 = input_str[0:-1:2]\n",
        "message2 = input_str[1:len(input_str):2]\n",
        "print(message1.strip('#') + \",\" + message2.strip('#'))"
      ]
    },
    {
      "cell_type": "code",
      "execution_count": null,
      "id": "548bb979",
      "metadata": {
        "id": "548bb979"
      },
      "outputs": [],
      "source": [
        "string = \"OQYWFClFhFGAvIWYwGKpmZhnJiyzTslSIhSwvOsqJMEphzmifTkyqOMNpnOtXZxmCfgDYqbaBHAUvIWhMnvwZnEMVDvmEfLrDoQnAZgQEgXQVnmSYkfedpAdhrtpOgORpYLRZYGWdhWYuqQssCUXtTzKRDAhpjUheOzUroZNzWFtZOVwIapzUYtbSbjYNErzQ\"\n"
      ]
    },
    {
      "cell_type": "code",
      "execution_count": null,
      "id": "0a22f7be",
      "metadata": {
        "id": "0a22f7be",
        "outputId": "3b71c9bb-9c70-4afe-ac02-33311603b786"
      },
      "outputs": [
        {
          "data": {
            "text/plain": [
              "193"
            ]
          },
          "execution_count": 45,
          "metadata": {},
          "output_type": "execute_result"
        }
      ],
      "source": [
        "# Long strings\n",
        "# Calculate the number of characters in the string\n",
        "len(string)"
      ]
    },
    {
      "cell_type": "code",
      "execution_count": null,
      "id": "d9cc4d10",
      "metadata": {
        "id": "d9cc4d10",
        "outputId": "ac8cbf58-b3cf-40fc-dbea-0cab3e79c0d3"
      },
      "outputs": [
        {
          "data": {
            "text/plain": [
              "2"
            ]
          },
          "execution_count": 46,
          "metadata": {},
          "output_type": "execute_result"
        }
      ],
      "source": [
        "# 'a'mi8nor string\n",
        "# count the number of occurrences of 'a'in the string.\n",
        "string.count('a')"
      ]
    },
    {
      "cell_type": "code",
      "execution_count": null,
      "id": "f846d8fa",
      "metadata": {
        "id": "f846d8fa",
        "outputId": "a0a6db6d-4dba-4e10-acd9-b927178b435a"
      },
      "outputs": [
        {
          "data": {
            "text/plain": [
              "False"
            ]
          },
          "execution_count": 47,
          "metadata": {},
          "output_type": "execute_result"
        }
      ],
      "source": [
        "# If Only\n",
        "# Identify whether the string starts with 'if'\n",
        "string.startswith('if')"
      ]
    },
    {
      "cell_type": "code",
      "execution_count": null,
      "id": "c7f8b85e",
      "metadata": {
        "id": "c7f8b85e"
      },
      "outputs": [],
      "source": []
    },
    {
      "cell_type": "code",
      "execution_count": null,
      "id": "8ebd6119",
      "metadata": {
        "id": "8ebd6119",
        "outputId": "a565e4de-abe3-4b45-8241-0ed9c239fd0c"
      },
      "outputs": [
        {
          "data": {
            "text/plain": [
              "'mCfgDYqbaBHAUvIWhMnvwZnEMV'"
            ]
          },
          "execution_count": 48,
          "metadata": {},
          "output_type": "execute_result"
        }
      ],
      "source": [
        "# No strings Attached\n",
        "# Return the substring at index 63 and ending at index 88[Both the indexes are inclusive]\n",
        "string[63:89]"
      ]
    },
    {
      "cell_type": "code",
      "execution_count": null,
      "id": "6b20606f",
      "metadata": {
        "id": "6b20606f",
        "outputId": "5f3bf00b-6f38-49ab-eb1b-8d8fc98043ad"
      },
      "outputs": [
        {
          "data": {
            "text/plain": [
              "'z'"
            ]
          },
          "execution_count": 49,
          "metadata": {},
          "output_type": "execute_result"
        }
      ],
      "source": [
        "# 46th Character\n",
        "# Identity the 46thcharacter in the string\n",
        "string[45]"
      ]
    },
    {
      "cell_type": "markdown",
      "id": "1bbeb3d8",
      "metadata": {
        "id": "1bbeb3d8"
      },
      "source": [
        "<h1 style=\"color:Brown\"> Tuples </h1>\n",
        "\n",
        "- Tuples are an ordered sequence of mixed data types.\n",
        "- Tuples are written as comma-separated elements within paranthesis"
      ]
    },
    {
      "cell_type": "code",
      "execution_count": null,
      "id": "5864e932",
      "metadata": {
        "id": "5864e932",
        "outputId": "36f61aa0-9139-4ea4-baaf-d5bda93139b1"
      },
      "outputs": [
        {
          "data": {
            "text/plain": [
              "('disco', 12, 4.5)"
            ]
          },
          "execution_count": 50,
          "metadata": {},
          "output_type": "execute_result"
        }
      ],
      "source": [
        "t=(\"disco\",12,4.5)\n",
        "t"
      ]
    },
    {
      "cell_type": "code",
      "execution_count": null,
      "id": "adb53b5d",
      "metadata": {
        "id": "adb53b5d",
        "outputId": "810ca67b-ba1b-4590-d57b-a3f5d0de5c9b"
      },
      "outputs": [
        {
          "data": {
            "text/plain": [
              "tuple"
            ]
          },
          "execution_count": 51,
          "metadata": {},
          "output_type": "execute_result"
        }
      ],
      "source": [
        "type(t)"
      ]
    },
    {
      "cell_type": "code",
      "execution_count": null,
      "id": "e75602ce",
      "metadata": {
        "id": "e75602ce",
        "outputId": "76f47ee2-6722-410b-ec47-df58e63ca1fa"
      },
      "outputs": [
        {
          "ename": "TypeError",
          "evalue": "'str' object does not support item assignment",
          "output_type": "error",
          "traceback": [
            "\u001b[1;31m---------------------------------------------------------------------------\u001b[0m",
            "\u001b[1;31mTypeError\u001b[0m                                 Traceback (most recent call last)",
            "Cell \u001b[1;32mIn [52], line 1\u001b[0m\n\u001b[1;32m----> 1\u001b[0m \u001b[43mt\u001b[49m\u001b[43m[\u001b[49m\u001b[38;5;241;43m0\u001b[39;49m\u001b[43m]\u001b[49m\u001b[43m[\u001b[49m\u001b[38;5;241;43m3\u001b[39;49m\u001b[43m]\u001b[49m\u001b[38;5;241m=\u001b[39m\u001b[38;5;124m'\u001b[39m\u001b[38;5;124mt\u001b[39m\u001b[38;5;124m'\u001b[39m\n",
            "\u001b[1;31mTypeError\u001b[0m: 'str' object does not support item assignment"
          ]
        }
      ],
      "source": [
        "t[0][3]='t'"
      ]
    },
    {
      "cell_type": "markdown",
      "id": "d8a08b2d",
      "metadata": {
        "id": "d8a08b2d"
      },
      "source": [
        "#### Tuples can be defined is various ways\n",
        "\n",
        "#### A tuple can be defined without using paranthesis"
      ]
    },
    {
      "cell_type": "code",
      "execution_count": null,
      "id": "b880e8b4",
      "metadata": {
        "id": "b880e8b4",
        "outputId": "6231d1c8-0147-420b-8a8f-0ee6c214ef80"
      },
      "outputs": [
        {
          "name": "stdout",
          "output_type": "stream",
          "text": [
            "(1, 2, 3, 4)\n"
          ]
        }
      ],
      "source": [
        "sample_tuple = 1,2,3,4\n",
        "print(sample_tuple)"
      ]
    },
    {
      "cell_type": "markdown",
      "id": "7df4617e",
      "metadata": {
        "id": "7df4617e"
      },
      "source": [
        "Single value tuple"
      ]
    },
    {
      "cell_type": "code",
      "execution_count": null,
      "id": "c3f0d175",
      "metadata": {
        "id": "c3f0d175",
        "outputId": "108c1431-0bce-404c-adcd-e7a09018c469"
      },
      "outputs": [
        {
          "name": "stdout",
          "output_type": "stream",
          "text": [
            "(1,)\n"
          ]
        }
      ],
      "source": [
        "sample_tuple = 1,\n",
        "print(sample_tuple)"
      ]
    },
    {
      "cell_type": "code",
      "execution_count": null,
      "id": "e1c3edca",
      "metadata": {
        "id": "e1c3edca",
        "outputId": "b2848708-b127-45c4-9784-ba2442c3300c"
      },
      "outputs": [
        {
          "name": "stdout",
          "output_type": "stream",
          "text": [
            "(1,)\n"
          ]
        }
      ],
      "source": [
        "sample_tuple = (1,)\n",
        "print(sample_tuple)"
      ]
    },
    {
      "cell_type": "code",
      "execution_count": null,
      "id": "895715f3",
      "metadata": {
        "id": "895715f3"
      },
      "outputs": [],
      "source": [
        "sample_tuple1 = 1 # this is not a tuple"
      ]
    },
    {
      "cell_type": "code",
      "execution_count": null,
      "id": "bbd4cf19",
      "metadata": {
        "id": "bbd4cf19"
      },
      "outputs": [],
      "source": [
        "sample_tuple2 = (1) # this is not a tuple"
      ]
    },
    {
      "cell_type": "markdown",
      "id": "328f118a",
      "metadata": {
        "id": "328f118a"
      },
      "source": [
        "Indexing in tuples"
      ]
    },
    {
      "cell_type": "code",
      "execution_count": null,
      "id": "97029469",
      "metadata": {
        "id": "97029469"
      },
      "outputs": [],
      "source": [
        "t = (\"Mumbai\",84,\"Python\",)"
      ]
    },
    {
      "cell_type": "code",
      "execution_count": null,
      "id": "ebb52158",
      "metadata": {
        "id": "ebb52158",
        "outputId": "735dd8e0-bf8d-4ec5-a7ee-57aeec842473"
      },
      "outputs": [
        {
          "data": {
            "text/plain": [
              "84"
            ]
          },
          "execution_count": 59,
          "metadata": {},
          "output_type": "execute_result"
        }
      ],
      "source": [
        "#gives the element at index location 1\n",
        "t[1]"
      ]
    },
    {
      "cell_type": "code",
      "execution_count": null,
      "id": "1ccfa2c9",
      "metadata": {
        "id": "1ccfa2c9",
        "outputId": "c3f9809c-3986-4700-f6b6-10040fce7778"
      },
      "outputs": [
        {
          "data": {
            "text/plain": [
              "'Python'"
            ]
          },
          "execution_count": 60,
          "metadata": {},
          "output_type": "execute_result"
        }
      ],
      "source": [
        "#gives the last element from tuple\n",
        "t[-1]"
      ]
    },
    {
      "cell_type": "markdown",
      "id": "ee0387ff",
      "metadata": {
        "id": "ee0387ff"
      },
      "source": [
        "#### Slicing"
      ]
    },
    {
      "cell_type": "code",
      "execution_count": null,
      "id": "d80a3702",
      "metadata": {
        "id": "d80a3702",
        "outputId": "4a4f2210-02c8-4370-c284-b8d45c342f48"
      },
      "outputs": [
        {
          "data": {
            "text/plain": [
              "('Mumbai', 84, 'Python')"
            ]
          },
          "execution_count": 61,
          "metadata": {},
          "output_type": "execute_result"
        }
      ],
      "source": [
        "# slicing first 3 elements from t\n",
        "t = (\"Mumbai\",84,\"Python\",5,2,1)\n",
        "t[0:3]"
      ]
    },
    {
      "cell_type": "code",
      "execution_count": null,
      "id": "de1b06bd",
      "metadata": {
        "id": "de1b06bd",
        "outputId": "eecb5797-28dc-49db-f8b8-e77e6a1388cc"
      },
      "outputs": [
        {
          "data": {
            "text/plain": [
              "(2, 1)"
            ]
          },
          "execution_count": 62,
          "metadata": {},
          "output_type": "execute_result"
        }
      ],
      "source": [
        "# slicing last 2 elements from t\n",
        "t = (\"Mumbai\",84,\"Python\",5,2,1)\n",
        "t[-2:]"
      ]
    },
    {
      "cell_type": "code",
      "execution_count": null,
      "id": "91d2fb10",
      "metadata": {
        "id": "91d2fb10",
        "outputId": "0ebd0d55-3356-4330-8ce6-2d4810ed1f1b"
      },
      "outputs": [
        {
          "data": {
            "text/plain": [
              "6"
            ]
          },
          "execution_count": 63,
          "metadata": {},
          "output_type": "execute_result"
        }
      ],
      "source": [
        "# no of elements in tuple t\n",
        "t = (\"Mumbai\",84,\"Python\",5,2,1)\n",
        "len(t)"
      ]
    },
    {
      "cell_type": "markdown",
      "id": "1eb97e2c",
      "metadata": {
        "id": "1eb97e2c"
      },
      "source": [
        "### Concantenating tuples"
      ]
    },
    {
      "cell_type": "code",
      "execution_count": null,
      "id": "ee86a5be",
      "metadata": {
        "id": "ee86a5be",
        "outputId": "a26bec4c-44be-4d47-e13c-12ce2c9baa35"
      },
      "outputs": [
        {
          "data": {
            "text/plain": [
              "('This', 'is', 'Session', 2, 'on', 'Tuples')"
            ]
          },
          "execution_count": 64,
          "metadata": {},
          "output_type": "execute_result"
        }
      ],
      "source": [
        "tup1 = (\"This\", \"is\",\"Session\",2)\n",
        "tup2 = (\"on\",\"Tuples\")\n",
        "# Adding contents of tup2 to tup1 and storing in tup3\n",
        "tup3 = tup1 + tup2\n",
        "tup3"
      ]
    },
    {
      "cell_type": "markdown",
      "id": "d53f3693",
      "metadata": {
        "id": "d53f3693"
      },
      "source": [
        "#### Sum()-Min()-Max()"
      ]
    },
    {
      "cell_type": "code",
      "execution_count": null,
      "id": "74163edf",
      "metadata": {
        "id": "74163edf",
        "outputId": "8e62a9e2-b2a2-4e51-955a-23506690d908"
      },
      "outputs": [
        {
          "data": {
            "text/plain": [
              "21"
            ]
          },
          "execution_count": 65,
          "metadata": {},
          "output_type": "execute_result"
        }
      ],
      "source": [
        "t = (2,4,3,5,7)\n",
        "sum(t)"
      ]
    },
    {
      "cell_type": "code",
      "execution_count": null,
      "id": "11607d53",
      "metadata": {
        "id": "11607d53",
        "outputId": "dcba801f-e68a-4452-b2bc-9b19f0dc9b72"
      },
      "outputs": [
        {
          "data": {
            "text/plain": [
              "2"
            ]
          },
          "execution_count": 66,
          "metadata": {},
          "output_type": "execute_result"
        }
      ],
      "source": [
        "t = (2,4,3,5,7)\n",
        "min(t)"
      ]
    },
    {
      "cell_type": "code",
      "execution_count": null,
      "id": "36e11085",
      "metadata": {
        "id": "36e11085",
        "outputId": "84a005d2-f153-4f1b-9375-b01415205fcb"
      },
      "outputs": [
        {
          "data": {
            "text/plain": [
              "7"
            ]
          },
          "execution_count": 67,
          "metadata": {},
          "output_type": "execute_result"
        }
      ],
      "source": [
        "t = (2,4,3,5,7)\n",
        "max(t)"
      ]
    },
    {
      "cell_type": "markdown",
      "id": "809015d4",
      "metadata": {
        "id": "809015d4"
      },
      "source": [
        "Immutability of tuples"
      ]
    },
    {
      "cell_type": "code",
      "execution_count": null,
      "id": "18f5b78b",
      "metadata": {
        "id": "18f5b78b",
        "outputId": "87abe4b7-b3eb-442d-c50a-675d511b80b7"
      },
      "outputs": [
        {
          "ename": "TypeError",
          "evalue": "'tuple' object does not support item assignment",
          "output_type": "error",
          "traceback": [
            "\u001b[1;31m---------------------------------------------------------------------------\u001b[0m",
            "\u001b[1;31mTypeError\u001b[0m                                 Traceback (most recent call last)",
            "Cell \u001b[1;32mIn [68], line 2\u001b[0m\n\u001b[0;32m      1\u001b[0m t \u001b[38;5;241m=\u001b[39m (\u001b[38;5;124m\"\u001b[39m\u001b[38;5;124mUSA\u001b[39m\u001b[38;5;124m\"\u001b[39m,\u001b[38;5;241m4\u001b[39m,\u001b[38;5;241m3\u001b[39m,\u001b[38;5;124m\"\u001b[39m\u001b[38;5;124mDisco\u001b[39m\u001b[38;5;124m\"\u001b[39m,\u001b[38;5;241m7.5\u001b[39m)\n\u001b[1;32m----> 2\u001b[0m \u001b[43mt\u001b[49m\u001b[43m[\u001b[49m\u001b[38;5;241;43m3\u001b[39;49m\u001b[43m]\u001b[49m\u001b[38;5;241m=\u001b[39m\u001b[38;5;124m\"\u001b[39m\u001b[38;5;124mHard Rock\u001b[39m\u001b[38;5;124m\"\u001b[39m\n",
            "\u001b[1;31mTypeError\u001b[0m: 'tuple' object does not support item assignment"
          ]
        }
      ],
      "source": [
        "t = (\"USA\",4,3,\"Disco\",7.5)\n",
        "t[3]=\"Hard Rock\""
      ]
    },
    {
      "cell_type": "code",
      "execution_count": null,
      "id": "d875efc9",
      "metadata": {
        "id": "d875efc9",
        "outputId": "91ac92c4-23cc-41a1-940b-be0084d8afca"
      },
      "outputs": [
        {
          "data": {
            "text/plain": [
              "('USA', 4, 3, 'Hard Rock', 7.5)"
            ]
          },
          "execution_count": 69,
          "metadata": {},
          "output_type": "execute_result"
        }
      ],
      "source": [
        "new_t = t[0:3]+(\"Hard Rock\",)+ t[4:]\n",
        "new_t"
      ]
    },
    {
      "cell_type": "markdown",
      "id": "c4397ddf",
      "metadata": {
        "id": "c4397ddf"
      },
      "source": [
        "Sorting a tuple"
      ]
    },
    {
      "cell_type": "code",
      "execution_count": null,
      "id": "5032d3d2",
      "metadata": {
        "id": "5032d3d2",
        "outputId": "5974fb5f-fcb3-4b4d-accb-645d37fc064d"
      },
      "outputs": [
        {
          "data": {
            "text/plain": [
              "[2, 3, 4, 5, 6, 8]"
            ]
          },
          "execution_count": 70,
          "metadata": {},
          "output_type": "execute_result"
        }
      ],
      "source": [
        "t = (2,3,6,4,8,5)\n",
        "sorted(t)"
      ]
    },
    {
      "cell_type": "code",
      "execution_count": null,
      "id": "c3bed7a0",
      "metadata": {
        "id": "c3bed7a0",
        "outputId": "87f64993-132a-47ae-9947-d08fd120a7e3"
      },
      "outputs": [
        {
          "data": {
            "text/plain": [
              "'java'"
            ]
          },
          "execution_count": 71,
          "metadata": {},
          "output_type": "execute_result"
        }
      ],
      "source": [
        "# Nested tuples\n",
        "t = (1,5,\"Disco\",(\"Python\",\"java\"))\n",
        "#Access \"Java\" from the nested tuple\n",
        "t[3][1]"
      ]
    },
    {
      "cell_type": "code",
      "execution_count": null,
      "id": "9399b1dd",
      "metadata": {
        "id": "9399b1dd",
        "outputId": "115be71b-c742-4201-ad71-4b9f58035053"
      },
      "outputs": [
        {
          "data": {
            "text/plain": [
              "{'India': 'INR', 'USA': 'USD', 'France': 'Euros'}"
            ]
          },
          "execution_count": 72,
          "metadata": {},
          "output_type": "execute_result"
        }
      ],
      "source": [
        "d = {\"India\":\"INR\",\"USA\":\"Dollars\",\"France\":\"Euros\",\"USA\":\"USD\"}\n",
        "d"
      ]
    },
    {
      "cell_type": "markdown",
      "id": "46bccf38",
      "metadata": {
        "id": "46bccf38"
      },
      "source": [
        "#### Packing and Unpacking In Tuples"
      ]
    },
    {
      "cell_type": "code",
      "execution_count": null,
      "id": "0b311b8b",
      "metadata": {
        "id": "0b311b8b",
        "outputId": "b53a6c0a-031b-4c26-98cb-fa5ba926d2b9"
      },
      "outputs": [
        {
          "name": "stdout",
          "output_type": "stream",
          "text": [
            "1\n"
          ]
        }
      ],
      "source": [
        "t = (1,2,3,4) # packing\n",
        "(a,b,c,d)=t  #Unpacking\n",
        "print(a)"
      ]
    },
    {
      "cell_type": "markdown",
      "id": "5b0640c1",
      "metadata": {
        "id": "5b0640c1"
      },
      "source": [
        "dir() - to view the attributes or methods of an object"
      ]
    },
    {
      "cell_type": "code",
      "execution_count": null,
      "id": "3cda368a",
      "metadata": {
        "id": "3cda368a",
        "outputId": "d976a880-9a63-45e6-b465-c5cda039f27d"
      },
      "outputs": [
        {
          "name": "stdout",
          "output_type": "stream",
          "text": [
            "['__add__', '__class__', '__class_getitem__', '__contains__', '__delattr__', '__dir__', '__doc__', '__eq__', '__format__', '__ge__', '__getattribute__', '__getitem__', '__getnewargs__', '__gt__', '__hash__', '__init__', '__init_subclass__', '__iter__', '__le__', '__len__', '__lt__', '__mul__', '__ne__', '__new__', '__reduce__', '__reduce_ex__', '__repr__', '__rmul__', '__setattr__', '__sizeof__', '__str__', '__subclasshook__', 'count', 'index']\n"
          ]
        }
      ],
      "source": [
        "t = ()\n",
        "print(dir(t))"
      ]
    },
    {
      "cell_type": "markdown",
      "id": "83a1fb86",
      "metadata": {
        "id": "83a1fb86"
      },
      "source": [
        "<h1 Style=\"color:Brown\"> Lists </h1>"
      ]
    },
    {
      "cell_type": "markdown",
      "id": "08d8682f",
      "metadata": {
        "id": "08d8682f"
      },
      "source": [
        "- Lists are an ordered sequence of mixed data types.\n",
        "- Lists are written as comma-separated elements within square brackets"
      ]
    },
    {
      "cell_type": "code",
      "execution_count": null,
      "id": "7f0e36e2",
      "metadata": {
        "id": "7f0e36e2",
        "outputId": "68777bdd-644f-44f3-c572-7f6c9e96422b"
      },
      "outputs": [
        {
          "data": {
            "text/plain": [
              "['India', 23, 6, 'Mumbai']"
            ]
          },
          "execution_count": 75,
          "metadata": {},
          "output_type": "execute_result"
        }
      ],
      "source": [
        "L = [\"India\",23,6,\"Mumbai\"]\n",
        "L"
      ]
    },
    {
      "cell_type": "code",
      "execution_count": null,
      "id": "e6bba4b4",
      "metadata": {
        "id": "e6bba4b4"
      },
      "outputs": [],
      "source": [
        "# nested list\n",
        "L = [\"Chemistry\",\"Biology\",[1989,2004],(\"Oreily\",\"Pearson\")]\n",
        "L"
      ]
    },
    {
      "cell_type": "code",
      "execution_count": null,
      "id": "4edb07bb",
      "metadata": {
        "id": "4edb07bb"
      },
      "outputs": [],
      "source": [
        "# Indexing\n",
        "L = [\"Chemistry\",\"Biology\",[1989,2004],(\"Oreily\",\"Pearson\")]\n",
        "L"
      ]
    },
    {
      "cell_type": "code",
      "execution_count": null,
      "id": "7a2f8c9b",
      "metadata": {
        "id": "7a2f8c9b"
      },
      "outputs": [],
      "source": [
        "L[-3]"
      ]
    },
    {
      "cell_type": "code",
      "execution_count": null,
      "id": "25f965b7",
      "metadata": {
        "id": "25f965b7"
      },
      "outputs": [],
      "source": [
        "#Slicing\n",
        "L[0:3]"
      ]
    },
    {
      "cell_type": "code",
      "execution_count": null,
      "id": "c94e0a10",
      "metadata": {
        "id": "c94e0a10"
      },
      "outputs": [],
      "source": [
        "# List Concatanetion\n",
        "L = [\"Chemistry\",\"Biology\",[1989,2004],(\"Oreily\",\"Pearson\")]\n",
        "new_L = L + [5,8]\n",
        "new_L"
      ]
    },
    {
      "cell_type": "code",
      "execution_count": null,
      "id": "e2a2edf9",
      "metadata": {
        "id": "e2a2edf9"
      },
      "outputs": [],
      "source": [
        "# Replace \"Biology\" with \"Physics\"\n",
        "L = [\"Chemistry\",\"Biology\",[1989,2004],(\"Oreily\",\"Pearson\")]\n",
        "L[1]=\"Physics\"\n",
        "L"
      ]
    },
    {
      "cell_type": "code",
      "execution_count": null,
      "id": "cb735d2d",
      "metadata": {
        "id": "cb735d2d"
      },
      "outputs": [],
      "source": [
        "# extend()\n",
        "L = [\"chemistry\",\"Biology\",[1989,2004],(\"Oreily\",\"Pearson\")]\n",
        "L.extend([5,8])\n",
        "L"
      ]
    },
    {
      "cell_type": "code",
      "execution_count": null,
      "id": "1f9b4f09",
      "metadata": {
        "id": "1f9b4f09"
      },
      "outputs": [],
      "source": [
        "# append()\n",
        "L = [\"Chemistry\",\"Biology\",[1989,2004],(\"Oreily\",\"Pearson\")]\n",
        "L.append([5,8])\n",
        "L"
      ]
    },
    {
      "cell_type": "code",
      "execution_count": null,
      "id": "9f80ed7a",
      "metadata": {
        "id": "9f80ed7a"
      },
      "outputs": [],
      "source": [
        "# del command\n",
        "L = [\"Chemistry\",\"Biology\",[1989,2004],(\"Oreily\",\"Pearson\")]\n",
        "del L[0]\n",
        "L"
      ]
    },
    {
      "cell_type": "code",
      "execution_count": null,
      "id": "25c505d7",
      "metadata": {
        "id": "25c505d7"
      },
      "outputs": [],
      "source": [
        "# Pop()\n",
        "L = [\"Chemistry\",\"Biology\",[1989,2004],(\"Oreily\",\"Pearson\")]\n",
        "L.pop()\n",
        "L"
      ]
    },
    {
      "cell_type": "code",
      "execution_count": null,
      "id": "7a4e70d4",
      "metadata": {
        "id": "7a4e70d4"
      },
      "outputs": [],
      "source": [
        "import ast,sys\n",
        "input_str = sys.stdin.read()\n",
        "input_tuple = ast.literal_eval(input_str)\n",
        "first_name = input_str.split('_')[1]\n",
        "second_name = input_str.split('_')[0]\n",
        "customer_code = input_str.split('_')[2]\n",
        "print(first_name)\n",
        "print(second_name)\n",
        "print(customer_code)"
      ]
    },
    {
      "cell_type": "code",
      "execution_count": null,
      "id": "56aabc2c",
      "metadata": {
        "id": "56aabc2c"
      },
      "outputs": [],
      "source": [
        "# remove()\n",
        "L = [\"Chemistry\",\"Biology\",[1989,2004],(\"Oreily\",\"Pearson\")]\n",
        "L.remove(\"Chemistry\")\n",
        "L"
      ]
    },
    {
      "cell_type": "code",
      "execution_count": null,
      "id": "553ea832",
      "metadata": {
        "id": "553ea832"
      },
      "outputs": [],
      "source": [
        "L = ['Chemistry','Biology',[1989,2004],('Oreily','Pearson')]\n",
        "L"
      ]
    },
    {
      "cell_type": "code",
      "execution_count": null,
      "id": "d1e30abc",
      "metadata": {
        "id": "d1e30abc"
      },
      "outputs": [],
      "source": [
        "# Sorrting lists\n",
        "l = [32,24,65,9]\n",
        "l.sort()\n",
        "l"
      ]
    },
    {
      "cell_type": "code",
      "execution_count": null,
      "id": "0f1c4b40",
      "metadata": {
        "id": "0f1c4b40"
      },
      "outputs": [],
      "source": [
        "l.sort(reverse = True)\n",
        "l"
      ]
    },
    {
      "cell_type": "code",
      "execution_count": null,
      "id": "7cf13bdf",
      "metadata": {
        "id": "7cf13bdf"
      },
      "outputs": [],
      "source": [
        "l = [32,54,12,24,44,89]\n",
        "l.sort(reverse = True)\n",
        "l"
      ]
    },
    {
      "cell_type": "code",
      "execution_count": null,
      "id": "35008e93",
      "metadata": {
        "id": "35008e93"
      },
      "outputs": [],
      "source": [
        "l.sort()\n",
        "l"
      ]
    },
    {
      "cell_type": "markdown",
      "id": "3bd93f2c",
      "metadata": {
        "id": "3bd93f2c"
      },
      "source": [
        "Difference between sort and sorted"
      ]
    },
    {
      "cell_type": "code",
      "execution_count": null,
      "id": "7a816072",
      "metadata": {
        "id": "7a816072"
      },
      "outputs": [],
      "source": [
        "A = [\"Orange\",\"Strawberry\",\"Mango\"]\n",
        "B = A.sort()\n",
        "\n",
        "print(A)\n",
        "print(B)"
      ]
    },
    {
      "cell_type": "code",
      "execution_count": null,
      "id": "dd3f2512",
      "metadata": {
        "id": "dd3f2512"
      },
      "outputs": [],
      "source": [
        "A = [\"Orange\",\"Strawberry\",\"Mango\"]\n",
        "C = sorted(A)\n",
        "print(A)\n",
        "print(C)"
      ]
    },
    {
      "cell_type": "markdown",
      "id": "879bc2c5",
      "metadata": {
        "id": "879bc2c5"
      },
      "source": [
        "Shallow Copying"
      ]
    },
    {
      "cell_type": "code",
      "execution_count": null,
      "id": "24403f37",
      "metadata": {
        "id": "24403f37"
      },
      "outputs": [],
      "source": [
        "A = [\"Orange\",\"Strawberry\",\"Mango\"]\n",
        "B = A\n",
        "A[0] = \"Apple\""
      ]
    },
    {
      "cell_type": "code",
      "execution_count": null,
      "id": "d150fe9c",
      "metadata": {
        "id": "d150fe9c"
      },
      "outputs": [],
      "source": [
        "A"
      ]
    },
    {
      "cell_type": "code",
      "execution_count": null,
      "id": "f524f499",
      "metadata": {
        "id": "f524f499"
      },
      "outputs": [],
      "source": [
        "B"
      ]
    },
    {
      "cell_type": "code",
      "execution_count": null,
      "id": "ef28a2ed",
      "metadata": {
        "id": "ef28a2ed"
      },
      "outputs": [],
      "source": [
        "A  = [\"Orange\",\"Strawberry\",\"Mango\"]\n",
        "B = A[:]\n",
        "A[0] = \"Apple\""
      ]
    },
    {
      "cell_type": "code",
      "execution_count": null,
      "id": "30e6b054",
      "metadata": {
        "id": "30e6b054"
      },
      "outputs": [],
      "source": [
        "A"
      ]
    },
    {
      "cell_type": "code",
      "execution_count": null,
      "id": "ad894bd0",
      "metadata": {
        "id": "ad894bd0",
        "outputId": "452de6c1-c703-4841-a092-5ba57f7c1e86"
      },
      "outputs": [
        {
          "ename": "NameError",
          "evalue": "name 'B' is not defined",
          "output_type": "error",
          "traceback": [
            "\u001b[1;31m---------------------------------------------------------------------------\u001b[0m",
            "\u001b[1;31mNameError\u001b[0m                                 Traceback (most recent call last)",
            "Cell \u001b[1;32mIn [6], line 1\u001b[0m\n\u001b[1;32m----> 1\u001b[0m \u001b[43mB\u001b[49m\n",
            "\u001b[1;31mNameError\u001b[0m: name 'B' is not defined"
          ]
        }
      ],
      "source": [
        "B"
      ]
    },
    {
      "cell_type": "markdown",
      "id": "d7a939f4",
      "metadata": {
        "id": "d7a939f4"
      },
      "source": [
        "<h1 style=\"color:Brown\"> Sets </h1>"
      ]
    },
    {
      "cell_type": "markdown",
      "id": "5390d78e",
      "metadata": {
        "id": "5390d78e"
      },
      "source": [
        "- Sets are a type of collection like lists and tuples, storing mixed data\n",
        "- Sets are enclosed within curly brackets and elements are written as comma separated.\n",
        "- Sets are Unordered\n",
        "- Sets does not allow duplicates"
      ]
    },
    {
      "cell_type": "code",
      "execution_count": null,
      "id": "f481f2e0",
      "metadata": {
        "id": "f481f2e0"
      },
      "outputs": [],
      "source": [
        "l = [1,3,2,4,5,5]\n",
        "set_l = set(l)\n",
        "set_l"
      ]
    },
    {
      "cell_type": "code",
      "execution_count": null,
      "id": "8cb11bd5",
      "metadata": {
        "id": "8cb11bd5"
      },
      "outputs": [],
      "source": [
        "len(set_l)"
      ]
    },
    {
      "cell_type": "code",
      "execution_count": null,
      "id": "6cc245d9",
      "metadata": {
        "id": "6cc245d9"
      },
      "outputs": [],
      "source": [
        "a = {1,2,3,4,5}\n",
        "a.add(\"India\")\n",
        "a"
      ]
    },
    {
      "cell_type": "code",
      "execution_count": null,
      "id": "bb9896de",
      "metadata": {
        "id": "bb9896de"
      },
      "outputs": [],
      "source": [
        "a.add(\"India\")\n",
        "a"
      ]
    },
    {
      "cell_type": "code",
      "execution_count": null,
      "id": "98638449",
      "metadata": {
        "id": "98638449"
      },
      "outputs": [],
      "source": [
        "a = {1,2,3,4,5,\"India\"}\n",
        "a.remove(\"India\")\n",
        "a"
      ]
    },
    {
      "cell_type": "code",
      "execution_count": null,
      "id": "5eebdf7e",
      "metadata": {
        "id": "5eebdf7e"
      },
      "outputs": [],
      "source": [
        "# set operations\n",
        "A = {0,2,4,6,8}\n",
        "B = {1,2,3,4,5}"
      ]
    },
    {
      "cell_type": "code",
      "execution_count": null,
      "id": "f11df1fb",
      "metadata": {
        "id": "f11df1fb"
      },
      "outputs": [],
      "source": [
        "print(A | B) # union"
      ]
    },
    {
      "cell_type": "code",
      "execution_count": null,
      "id": "a6a76ac1",
      "metadata": {
        "id": "a6a76ac1"
      },
      "outputs": [],
      "source": [
        "print(A&B)#intersection"
      ]
    },
    {
      "cell_type": "code",
      "execution_count": null,
      "id": "bbe98205",
      "metadata": {
        "scrolled": true,
        "id": "bbe98205"
      },
      "outputs": [],
      "source": [
        "print(A-B) #Difference"
      ]
    },
    {
      "cell_type": "code",
      "execution_count": null,
      "id": "76e0ba4c",
      "metadata": {
        "id": "76e0ba4c"
      },
      "outputs": [],
      "source": [
        "print(A^B) #symmetric Diffference"
      ]
    },
    {
      "cell_type": "markdown",
      "id": "881fe32d",
      "metadata": {
        "id": "881fe32d"
      },
      "source": [
        "<h1 Style=\"color:Brown\"> Dictionaries </h1>"
      ]
    },
    {
      "cell_type": "markdown",
      "id": "c9a08333",
      "metadata": {
        "id": "c9a08333"
      },
      "source": [
        "- A dictionary stroes elements as keys and values pairs.\n",
        "- The key is like an index, it is always unique and immutable.\n",
        "- The values are the objects that contain information.\n",
        "- Values are accessed using their keys\n",
        "- Each key is followed by a value separated by a colon.\n",
        "- The values can be immutable,mutable, and duplicates.\n",
        "- Each key and value pair is separated by a comma enclosed inside curly brackets"
      ]
    },
    {
      "cell_type": "code",
      "execution_count": null,
      "id": "89085a1a",
      "metadata": {
        "id": "89085a1a"
      },
      "outputs": [],
      "source": [
        "# Creating a dictionary\n",
        "d = {\"India\" : \"INR\", \"USA\":\"USD\",\"France\":\"Euros\"}\n",
        "# Access value using keys\n",
        "d[\"India\"]"
      ]
    },
    {
      "cell_type": "code",
      "execution_count": null,
      "id": "11de83ee",
      "metadata": {
        "id": "11de83ee"
      },
      "outputs": [],
      "source": [
        "# replace the value for a key in a dictionary\n",
        "d[\"India\"] = \"Rs\"\n",
        "d"
      ]
    },
    {
      "cell_type": "code",
      "execution_count": null,
      "id": "49b977c4",
      "metadata": {
        "id": "49b977c4"
      },
      "outputs": [],
      "source": [
        "# Insert new key value pair into a dictionary\n",
        "d[\"Japan\"] = \"Yen\"\n",
        "d"
      ]
    },
    {
      "cell_type": "code",
      "execution_count": null,
      "id": "5ab61d1b",
      "metadata": {
        "id": "5ab61d1b"
      },
      "outputs": [],
      "source": [
        "# Deleting a key value pair\n",
        "del d[\"France\"]\n",
        "d"
      ]
    },
    {
      "cell_type": "code",
      "execution_count": null,
      "id": "df68ffee",
      "metadata": {
        "id": "df68ffee"
      },
      "outputs": [],
      "source": [
        "# sorting a dictionary\n",
        "sorted(d)"
      ]
    },
    {
      "cell_type": "code",
      "execution_count": null,
      "id": "96f9a6d8",
      "metadata": {
        "id": "96f9a6d8"
      },
      "outputs": [],
      "source": [
        "# values() method\n",
        "d = {\"India\":\"INR\",\"USA\":\"USD\",\"France\":\"Euros\"}\n",
        "d.values()"
      ]
    },
    {
      "cell_type": "code",
      "execution_count": null,
      "id": "a2e0affe",
      "metadata": {
        "id": "a2e0affe"
      },
      "outputs": [],
      "source": [
        "# Keys() method\n",
        "d.keys()"
      ]
    },
    {
      "cell_type": "code",
      "execution_count": null,
      "id": "7ae99b15",
      "metadata": {
        "id": "7ae99b15"
      },
      "outputs": [],
      "source": [
        "# update() method\n",
        "d.update({'India':'Rupee'})\n",
        "d"
      ]
    },
    {
      "cell_type": "code",
      "execution_count": null,
      "id": "43aee575",
      "metadata": {
        "id": "43aee575"
      },
      "outputs": [],
      "source": [
        "# Creating a List with\n",
        "# the use of Numbers\n",
        "# code to test that tuples are mutable\n",
        "List = [1, 2, 4, 4, 3, 3, 3, 6, 5]\n",
        "print(\"Original list \", List)\n",
        "\n",
        "List[3] = 77\n",
        "print(\"Example to show mutability \", List)\n"
      ]
    },
    {
      "cell_type": "code",
      "execution_count": null,
      "id": "6e2c398e",
      "metadata": {
        "id": "6e2c398e"
      },
      "outputs": [],
      "source": [
        "# code to test that tuples are immutable\n",
        "\n",
        "tuple1 = (0, 1, 2, 3)\n",
        "tuple1[0] = 4\n",
        "print(tuple1)\n"
      ]
    },
    {
      "cell_type": "code",
      "execution_count": null,
      "id": "31665932",
      "metadata": {
        "id": "31665932"
      },
      "outputs": [],
      "source": [
        "import sys\n",
        "a_list = []\n",
        "a_tuple = ()\n",
        "a_list = [\"Geeks\", \"For\", \"Geeks\"]\n",
        "a_tuple = (\"Geeks\", \"For\", \"Geeks\")\n",
        "print(sys.getsizeof(a_list))\n",
        "print(sys.getsizeof(a_tuple))\n"
      ]
    },
    {
      "cell_type": "code",
      "execution_count": null,
      "id": "5a04cebd",
      "metadata": {
        "id": "5a04cebd"
      },
      "outputs": [],
      "source": [
        "import sys, platform\n",
        "import time\n",
        "\n",
        "l=list(range(100000001))\n",
        "t=tuple(range(100000001))\n",
        "\n",
        "start = time.time_ns()\n",
        "for i in range(len(t)):\n",
        "\ta = t[i]\n",
        "end = time.time_ns()\n",
        "print(\"Total lookup time for Tuple: \", end - start)\n",
        "\n",
        "start = time.time_ns()\n",
        "for i in range(len(l)):\n",
        "\ta = l[i]\n",
        "end = time.time_ns()\n",
        "print(\"Total lookup time for LIST: \", end - start)\n"
      ]
    },
    {
      "cell_type": "code",
      "execution_count": null,
      "id": "b74a2d5a",
      "metadata": {
        "id": "b74a2d5a"
      },
      "outputs": [],
      "source": [
        "# List of order ID’s which are processed\n",
        "processed_orders = [1152, 1154, 1155, 1156, 1157, 1160, 1161, 1162, 1166, 1169, 1170, 1172, 1176, 1050, 1178, 1051, 1052, 1054, 1058, 1060, 1061, 1062, 1065, 1066, 1067, 1068, 1069, 1076, 1077, 1080, 1081, 1083, 1091, 1085, 1088, 1089, 1131, 1092, 1094, 1095, 1099, 1102, 1103, 1104, 1106, 1107, 1108, 1109, 1111, 1117, 1119, 1121, 1150, 1128, 1129, 1136, 1137, 1139, 1140, 1141, 1144, 1148, 1124]\n",
        "\n",
        "# List of order ID’s which are returned\n",
        "returned_orders = [1153, 1158, 1159, 1163, 1164, 1165, 1167, 1168, 1171, 1173, 1174, 1175, 1177, 1053, 1055, 1056, 1057, 1059, 1063, 1064, 1070, 1071, 1072, 1073, 1074, 1075, 1078, 1079, 1082, 1084, 1086, 1087, 1090, 1093, 1096, 1097, 1098, 1100, 1101, 1105, 1110, 1112, 1113, 1114, 1115, 1116, 1118, 1120, 1122, 1123, 1125, 1126, 1127, 1130, 1132, 1133, 1134, 1135, 1138, 1142, 1143, 1145, 1146, 1147, 1149, 1151]\n",
        "\n",
        "# Consider the information available in the above two lists and answer the question given below"
      ]
    },
    {
      "cell_type": "code",
      "execution_count": null,
      "id": "3e3bb0db",
      "metadata": {
        "id": "3e3bb0db"
      },
      "outputs": [],
      "source": [
        "# Count the total no of orders\n",
        "len(processed_orders) + len(returned_orders)"
      ]
    },
    {
      "cell_type": "code",
      "execution_count": null,
      "id": "59d6f532",
      "metadata": {
        "id": "59d6f532"
      },
      "outputs": [],
      "source": [
        "# In the total orders, Identify the 50th order [Note: Assume the oder Id's are being generated in a consecutive manner]\n",
        "orders = processed_orders + returned_orders\n",
        "orders.sort()\n",
        "orders[49]"
      ]
    },
    {
      "cell_type": "code",
      "execution_count": null,
      "id": "81125451",
      "metadata": {
        "id": "81125451"
      },
      "outputs": [],
      "source": [
        "# Is 50th order a returned order or processed order?\n",
        "1099 in processed_orders"
      ]
    },
    {
      "cell_type": "code",
      "execution_count": null,
      "id": "03d647bf",
      "metadata": {
        "id": "03d647bf"
      },
      "outputs": [],
      "source": [
        "1099 in returned_orders"
      ]
    },
    {
      "cell_type": "code",
      "execution_count": null,
      "id": "ff617e54",
      "metadata": {
        "id": "ff617e54"
      },
      "outputs": [],
      "source": [
        "# What is the last processed order ID ?\n",
        "processed_orders.sort()\n",
        "processed_orders[-1]"
      ]
    },
    {
      "cell_type": "code",
      "execution_count": null,
      "id": "f7978f3c",
      "metadata": {
        "id": "f7978f3c"
      },
      "outputs": [],
      "source": [
        "#Identify the first four orders that were processed. [Note: Assume the order IDs are being generated consecutively]\n",
        "processed_orders.sort()\n",
        "processed_orders[0:4]"
      ]
    },
    {
      "cell_type": "code",
      "execution_count": null,
      "id": "63261363",
      "metadata": {
        "id": "63261363"
      },
      "outputs": [],
      "source": [
        "# employee data with key as id of the employee and values as age of the employee\n",
        "Employee_data ={101: 43, 102: 25, 103: 43, 104: 31, 105: 26, 106: 28, 107: 29, 108: 43, 109: 25, 110: 22, 111: 22, 112: 25, 113: 30, 115: 45, 116: 23, 117: 29, 118: 28, 119: 30, 120: 28, 121: 42, 122: 39, 123: 29, 124: 42, 125: 43, 126: 42, 127: 40, 128: 27, 129: 23, 130: 30, 131: 37, 132: 20, 133: 36, 134: 27, 135: 27, 136: 22, 137: 28, 138: 23, 139: 45, 140: 39, 141: 29, 142: 33, 143: 39, 145: 34, 146: 26, 147: 30, 148: 38, 149: 29, 150: 24, 151: 28, 152: 34, 153: 42, 154: 29, 155: 23, 156: 31, 158: 25, 160: 45, 161: 42, 162: 27, 163: 24, 164: 20, 166: 24, 167: 28, 168: 20, 169: 33, 170: 34, 171: 37, 172: 45, 173: 35, 174: 23, 175: 44, 176: 27, 177: 30, 178: 26, 179: 27}\n"
      ]
    },
    {
      "cell_type": "code",
      "execution_count": null,
      "id": "895e6b1a",
      "metadata": {
        "id": "895e6b1a"
      },
      "outputs": [],
      "source": [
        "# Identify the senior most employees age\n",
        "max(Employee_data.values())"
      ]
    },
    {
      "cell_type": "code",
      "execution_count": null,
      "id": "969aaa99",
      "metadata": {
        "id": "969aaa99"
      },
      "outputs": [],
      "source": [
        "max(Employee_data.keys())"
      ]
    },
    {
      "cell_type": "code",
      "execution_count": null,
      "id": "f52f83d3",
      "metadata": {
        "id": "f52f83d3"
      },
      "outputs": [],
      "source": [
        "# Identify the age of the employee with id 159 [If the employee isn't present return NA]\n",
        "print(Employee_data[158])"
      ]
    },
    {
      "cell_type": "code",
      "execution_count": null,
      "id": "77ee7c78",
      "metadata": {
        "id": "77ee7c78"
      },
      "outputs": [],
      "source": [
        "# Count the total number of employee in the organization\n",
        "len(Employee_data)"
      ]
    },
    {
      "cell_type": "code",
      "execution_count": null,
      "id": "b3bdb643",
      "metadata": {
        "id": "b3bdb643"
      },
      "outputs": [],
      "source": [
        "# calculate the mean age of the employees\n",
        "sum (Employee_data.values())/74"
      ]
    },
    {
      "cell_type": "code",
      "execution_count": null,
      "id": "f00ed206",
      "metadata": {
        "id": "f00ed206"
      },
      "outputs": [],
      "source": [
        "# Perform the following two tasks and then calculate the updated mean age of the employees\n",
        "# Task 1 Update the ages of employee id- 104,140 and 164 as 27\n",
        "# Task 2 Remove the employee id - 143\n",
        "Employee_data[104]=27\n",
        "Employee_data[140]=27\n",
        "Employee_data[164]=27\n",
        "del Employee_data[143]\n",
        "\n",
        "sum (Employee_data.values())/74"
      ]
    },
    {
      "cell_type": "code",
      "execution_count": null,
      "id": "206c7d34",
      "metadata": {
        "id": "206c7d34"
      },
      "outputs": [],
      "source": [
        "input_list =  [['SAS','R'],['Tableau','SQL'],['Python','Java']]\n",
        "input_list[2][0]"
      ]
    },
    {
      "cell_type": "code",
      "execution_count": null,
      "id": "1cadffcb",
      "metadata": {
        "id": "1cadffcb"
      },
      "outputs": [],
      "source": [
        "A = [5,1,3,4,4,5,6,7]\n",
        "\n",
        "B = [3,3,5,5, 1 ,7 ,2]\n",
        "\n",
        "C =  A|B\n",
        "print (C)"
      ]
    },
    {
      "cell_type": "code",
      "execution_count": null,
      "id": "3c923a8e",
      "metadata": {
        "id": "3c923a8e"
      },
      "outputs": [],
      "source": [
        "input_list = [5,5,5,5,5,5,5,3], [3,3,5,5,1,7,2]\n",
        "list_1 = input_list[0]\n",
        "list_2 = input_list[1]\n",
        "\n",
        "answer = list(set(list_1).intersection(list_2))\n",
        "\n",
        "print(answer)"
      ]
    },
    {
      "cell_type": "code",
      "execution_count": null,
      "id": "a867d964",
      "metadata": {
        "id": "a867d964"
      },
      "outputs": [],
      "source": [
        "A = set[5,1,3,4,4,5,6,7]\n",
        "\n",
        "B = set[3,3,5,5, 1 ,7 ,2]\n"
      ]
    },
    {
      "cell_type": "code",
      "execution_count": null,
      "id": "b16669d2",
      "metadata": {
        "id": "b16669d2"
      },
      "outputs": [],
      "source": [
        "A | B"
      ]
    },
    {
      "cell_type": "code",
      "execution_count": null,
      "id": "47a0c9f0",
      "metadata": {
        "id": "47a0c9f0"
      },
      "outputs": [],
      "source": [
        "A|B"
      ]
    },
    {
      "cell_type": "code",
      "execution_count": null,
      "id": "59114bc6",
      "metadata": {
        "id": "59114bc6"
      },
      "outputs": [],
      "source": [
        "A-B"
      ]
    },
    {
      "cell_type": "code",
      "execution_count": null,
      "id": "ebbac447",
      "metadata": {
        "id": "ebbac447"
      },
      "outputs": [],
      "source": [
        "input_dict = { 101:['Shiva', 24, 'Content Strategist'] ,102:['Udit',25,'Content Strategist'], 103:['Sonam', 28,'Sr Manager'], 104:['Ansari',29,'Product Lead' ],105:['Huzefa',32,'Project Manager' ]}\n",
        "Employee_list = list(input_dict[104])\n",
        "\n",
        "profession = Employee_list[2]\n",
        "\n",
        "print(profession)"
      ]
    },
    {
      "cell_type": "code",
      "execution_count": null,
      "id": "37690655",
      "metadata": {
        "id": "37690655"
      },
      "outputs": [],
      "source": [
        "Employee_list = list(input_dict[103])\n",
        "profession = Employee_list[0]\n",
        "print(profession)"
      ]
    },
    {
      "cell_type": "code",
      "execution_count": null,
      "id": "3f0f0b26",
      "metadata": {
        "id": "3f0f0b26"
      },
      "outputs": [],
      "source": [
        "Employee_list[1]"
      ]
    },
    {
      "cell_type": "code",
      "execution_count": null,
      "id": "354366b3",
      "metadata": {
        "id": "354366b3"
      },
      "outputs": [],
      "source": [
        "input_dict = {'Name' : 'Monty' , 'Profession' : 'Singer' }\n",
        "answer = input_dict.get('label','NA')\n",
        "answer"
      ]
    },
    {
      "cell_type": "code",
      "execution_count": null,
      "id": "d794d3b0",
      "metadata": {
        "id": "d794d3b0"
      },
      "outputs": [],
      "source": [
        "input_dict = {'Jack Dorsey' : 'Twitter' , 'Tim Cook' : 'Apple', 'Jeff Bezos' : 'Amazon' ,'Mukesh Ambani' : 'RJIO'}\n",
        "value_list = input_dict\n",
        "print(sorted(value_list.values()))"
      ]
    },
    {
      "cell_type": "code",
      "execution_count": null,
      "id": "b56db844",
      "metadata": {
        "id": "b56db844"
      },
      "outputs": [],
      "source": [
        "A = value_list.keys()\n",
        "print(A)"
      ]
    },
    {
      "cell_type": "code",
      "execution_count": null,
      "id": "86f598d5",
      "metadata": {
        "id": "86f598d5"
      },
      "outputs": [],
      "source": [
        "sorted(value_list.keys())"
      ]
    },
    {
      "cell_type": "markdown",
      "id": "cf3ffe30",
      "metadata": {
        "id": "cf3ffe30"
      },
      "source": [
        "<h1 style=\"color:Brown\"> Relational Operators </h1>"
      ]
    },
    {
      "cell_type": "markdown",
      "id": "26e2ae76",
      "metadata": {
        "id": "26e2ae76"
      },
      "source": [
        "- compares the values on either side of the operator and returns and boolean value as True or False"
      ]
    },
    {
      "cell_type": "markdown",
      "id": "8009d19a",
      "metadata": {
        "id": "8009d19a"
      },
      "source": [
        "Equal to operator"
      ]
    },
    {
      "cell_type": "code",
      "execution_count": null,
      "id": "593898fb",
      "metadata": {
        "id": "593898fb"
      },
      "outputs": [],
      "source": [
        "10 == 10"
      ]
    },
    {
      "cell_type": "markdown",
      "id": "668809fb",
      "metadata": {
        "id": "668809fb"
      },
      "source": [
        "<h2 style=\"color:Red\" > Alert!!! </h2>"
      ]
    },
    {
      "cell_type": "markdown",
      "id": "a8da32f9",
      "metadata": {
        "id": "a8da32f9"
      },
      "source": [
        "=is an assignment operator,to assign value of an expression on righjt to a variable on left"
      ]
    },
    {
      "cell_type": "code",
      "execution_count": null,
      "id": "73916b8a",
      "metadata": {
        "id": "73916b8a"
      },
      "outputs": [],
      "source": [
        "10 == 5"
      ]
    },
    {
      "cell_type": "markdown",
      "id": "7bcc5782",
      "metadata": {
        "id": "7bcc5782"
      },
      "source": [
        "not equal to operator"
      ]
    },
    {
      "cell_type": "code",
      "execution_count": null,
      "id": "9c3805e6",
      "metadata": {
        "id": "9c3805e6"
      },
      "outputs": [],
      "source": [
        "10 != 5"
      ]
    },
    {
      "cell_type": "markdown",
      "id": "7179cd8d",
      "metadata": {
        "id": "7179cd8d"
      },
      "source": [
        "greater than operator"
      ]
    },
    {
      "cell_type": "code",
      "execution_count": null,
      "id": "2e24b0c5",
      "metadata": {
        "id": "2e24b0c5"
      },
      "outputs": [],
      "source": [
        "10>5"
      ]
    },
    {
      "cell_type": "markdown",
      "id": "af7e3817",
      "metadata": {
        "id": "af7e3817"
      },
      "source": [
        "less than operator"
      ]
    },
    {
      "cell_type": "code",
      "execution_count": null,
      "id": "90584f09",
      "metadata": {
        "id": "90584f09"
      },
      "outputs": [],
      "source": [
        "10<5"
      ]
    },
    {
      "cell_type": "markdown",
      "id": "ce6f6e93",
      "metadata": {
        "id": "ce6f6e93"
      },
      "source": [
        "lessthan equal to operator"
      ]
    },
    {
      "cell_type": "code",
      "execution_count": null,
      "id": "ce5db88d",
      "metadata": {
        "id": "ce5db88d"
      },
      "outputs": [],
      "source": [
        "10 <= 5"
      ]
    },
    {
      "cell_type": "markdown",
      "id": "a5374d62",
      "metadata": {
        "id": "a5374d62"
      },
      "source": [
        "<h3 style=\"color:Brown\"> Decision Making </h3>"
      ]
    },
    {
      "cell_type": "markdown",
      "id": "b8d8e164",
      "metadata": {
        "id": "b8d8e164"
      },
      "source": [
        "Write a program to check value in variable x is even or odd"
      ]
    },
    {
      "cell_type": "code",
      "execution_count": null,
      "id": "6075d718",
      "metadata": {
        "id": "6075d718"
      },
      "outputs": [],
      "source": [
        "x = 10\n",
        "if x%2 == 0:\n",
        "    print(x,\"is even number\")\n",
        "else:\n",
        "    print(x,\"is odd number\")"
      ]
    },
    {
      "cell_type": "markdown",
      "id": "06983a49",
      "metadata": {
        "id": "06983a49"
      },
      "source": [
        "Write a program to accept age of visitor and allows him to PM's party only if he is above 60 years or below 18years of age"
      ]
    },
    {
      "cell_type": "code",
      "execution_count": null,
      "id": "bf2d85a1",
      "metadata": {
        "id": "bf2d85a1"
      },
      "outputs": [],
      "source": [
        "x = int(input(\"Enter your age : \"))\n",
        "if x <= 18 or x >= 60 :\n",
        "    print(\"Welcome to the party\")\n",
        "else:\n",
        "    print(\"sorry!! you do not fit in PM's age criteria\")\n",
        ""
      ]
    },
    {
      "cell_type": "markdown",
      "id": "a5b39b90",
      "metadata": {
        "id": "a5b39b90"
      },
      "source": [
        "Write a program which offers various discounts on purchase bills\n"
      ]
    },
    {
      "cell_type": "code",
      "execution_count": null,
      "id": "2f121067",
      "metadata": {
        "id": "2f121067"
      },
      "outputs": [],
      "source": [
        "shopping_total = 5500\n",
        "\n",
        "if shopping_total >=5000:\n",
        "    print(\"You won a discount voucher of flat 1000 on next purchase\")\n",
        "elif shopping_total >= 2500:\n",
        "    print(\"You won a discount voucher of flat 500 on next purchase\")\n",
        "elif shopping_total >= 1000:\n",
        "    print(\"You won a discount voucher of flat 100 on next purchase\")\n",
        "else:\n",
        "    print(\"OOPS!! no discount for you\")"
      ]
    },
    {
      "cell_type": "markdown",
      "id": "2afa78e8",
      "metadata": {
        "id": "2afa78e8"
      },
      "source": [
        "Write a program to accepts three numbers from user and print the largest of three numbers"
      ]
    },
    {
      "cell_type": "code",
      "execution_count": null,
      "id": "558eecf4",
      "metadata": {
        "id": "558eecf4"
      },
      "outputs": [],
      "source": [
        "world_cups = {2019 : ['England','New zealand'],2015:[\"Australia\",\"New Zealand\"],2011:[\"India\",\"Srilanka\"],2007:[\"Australia\",\"Srilanka\"],2003:[\"Australia\",\"India\"]}\n",
        "year = int(input(\"Enter year to check India made it finals in 20th century :  \"))\n",
        "\n",
        "if year in world_cups:\n",
        "    if \"India\" in world_cups[year]:\n",
        "        print(\"India made it into Finals\")\n",
        "    else:\n",
        "        print(\"India could not make it to Finals\")\n",
        "else:\n",
        "    print(\"World cup wasn't played in\",year)"
      ]
    },
    {
      "cell_type": "markdown",
      "id": "85267c80",
      "metadata": {
        "id": "85267c80"
      },
      "source": [
        "<h2 style=\"color:Brown\"> Iteration </h4>"
      ]
    },
    {
      "cell_type": "code",
      "execution_count": null,
      "id": "e882ce85",
      "metadata": {
        "id": "e882ce85"
      },
      "outputs": [],
      "source": [
        "# iterate over list of integers\n",
        "l = [1,3,4,2,5,6]\n",
        "for i in l:\n",
        "    print(i)"
      ]
    },
    {
      "cell_type": "code",
      "execution_count": null,
      "id": "7fe58fdf",
      "metadata": {
        "id": "7fe58fdf"
      },
      "outputs": [],
      "source": [
        "# iterate over a string\n",
        "string = \"Himachal Pradesh\"\n",
        "for ch in string:\n",
        "    print(ch)"
      ]
    },
    {
      "cell_type": "code",
      "execution_count": null,
      "id": "631b5e5b",
      "metadata": {
        "id": "631b5e5b"
      },
      "outputs": [],
      "source": [
        "# iterate over a string - modify print using end\n",
        "string = \"Himachal Pradesh\"\n",
        "for ch in string:\n",
        "    print(ch,end = \":\")"
      ]
    },
    {
      "cell_type": "code",
      "execution_count": null,
      "id": "c0ecdff5",
      "metadata": {
        "id": "c0ecdff5"
      },
      "outputs": [],
      "source": [
        "# iterate over a dictionary\n",
        "students_data = {1:['Sam',24],2:['Sharma',25],3:['Saina',26],4:['Saif',24],5:['Varun',27]}\n",
        "for key,val in students_data.items():\n",
        "    print(key,val)"
      ]
    },
    {
      "cell_type": "code",
      "execution_count": null,
      "id": "f68ac7ba",
      "metadata": {
        "id": "f68ac7ba"
      },
      "outputs": [],
      "source": [
        "# iterating over keys of a dictionary\n",
        "for key in students_data.keys():\n",
        "    print(key)"
      ]
    },
    {
      "cell_type": "code",
      "execution_count": null,
      "id": "49ea60fc",
      "metadata": {
        "id": "49ea60fc"
      },
      "outputs": [],
      "source": [
        "# Generate range of values.\n",
        "range(1,101)"
      ]
    },
    {
      "cell_type": "code",
      "execution_count": null,
      "id": "38933267",
      "metadata": {
        "id": "38933267"
      },
      "outputs": [],
      "source": [
        "# iterate over range of values\n",
        "for i in range(1,101):\n",
        "    print(i,end = \" \")"
      ]
    },
    {
      "cell_type": "code",
      "execution_count": null,
      "id": "7abf06ee",
      "metadata": {
        "id": "7abf06ee"
      },
      "outputs": [],
      "source": [
        "for i in range(230,300):\n",
        "    print(i,end=\" \")"
      ]
    },
    {
      "cell_type": "code",
      "execution_count": null,
      "id": "cfb37cfc",
      "metadata": {
        "id": "cfb37cfc"
      },
      "outputs": [],
      "source": [
        "# different variations in range\n",
        "range(1,100,2) # gives numbers from 1 to 100 with a step count of 2\n",
        "range(100,0,-1) #gives a reversed sequenceof numbers from 100 to 1"
      ]
    },
    {
      "cell_type": "code",
      "execution_count": null,
      "id": "b9df1e86",
      "metadata": {
        "id": "b9df1e86"
      },
      "outputs": [],
      "source": [
        "while True:\n",
        "    ch = input()\n",
        "    if ch == \"quit\":\n",
        "        break\n",
        "    print(ch)"
      ]
    },
    {
      "cell_type": "markdown",
      "id": "9287cae4",
      "metadata": {
        "id": "9287cae4"
      },
      "source": [
        "<h1 style=\"color:Brown\"> Comprehensions </h1>"
      ]
    },
    {
      "cell_type": "code",
      "execution_count": null,
      "id": "8ce83d77",
      "metadata": {
        "id": "8ce83d77"
      },
      "outputs": [],
      "source": [
        "l1 = [\"automobiles\",\"Honda\",\"Benz\",\"Suzuki\",\"Morris Garages\"]\n",
        "l2 = []\n",
        "for i in l1:\n",
        "    l2.append(len(i))\n",
        "l2"
      ]
    },
    {
      "cell_type": "markdown",
      "id": "a70d07a7",
      "metadata": {
        "id": "a70d07a7"
      },
      "source": [
        "## The Functional Approach"
      ]
    },
    {
      "cell_type": "code",
      "execution_count": null,
      "id": "cddeb09d",
      "metadata": {
        "id": "cddeb09d"
      },
      "outputs": [],
      "source": [
        "# Example on list comprehension\n",
        "l1 = [\"Automobiles\",\"Honda\",\"Suzuki\",\"Morris Garages\"]\n",
        "# Create a list consisting of length of each element from the above list\n",
        "l2 = [len(i) for i in l1]\n",
        "print(l2)"
      ]
    },
    {
      "cell_type": "code",
      "execution_count": null,
      "id": "1d4318c4",
      "metadata": {
        "id": "1d4318c4"
      },
      "outputs": [],
      "source": [
        "# iterating over l1 and l2 simultaneously\n",
        "for i,j in zip(l1,l2):\n",
        "    print(i,\" - \",j)"
      ]
    },
    {
      "cell_type": "markdown",
      "id": "bcce70bf",
      "metadata": {
        "id": "bcce70bf"
      },
      "source": [
        "### Set Comprehensions"
      ]
    },
    {
      "cell_type": "markdown",
      "id": "94904d98",
      "metadata": {
        "id": "94904d98"
      },
      "source": [
        "Ex. Write a program which takes a word as input from user and returns vowels from the word"
      ]
    },
    {
      "cell_type": "code",
      "execution_count": null,
      "id": "41224cb5",
      "metadata": {
        "id": "41224cb5"
      },
      "outputs": [],
      "source": [
        "word = input(\"Enter a word : \")\n",
        "vowels = {i for i in word if i in \"aeiou\"}\n",
        "vowels"
      ]
    },
    {
      "cell_type": "markdown",
      "id": "7989a8cb",
      "metadata": {
        "id": "7989a8cb"
      },
      "source": [
        "<h1 style=\"color:Brown\"> Functions </h1>"
      ]
    },
    {
      "cell_type": "markdown",
      "id": "3e37b7f5",
      "metadata": {
        "id": "3e37b7f5"
      },
      "source": [
        "Ex. Write a function which takes a value as a parameter and returns its factorial"
      ]
    },
    {
      "cell_type": "code",
      "execution_count": null,
      "id": "b1072084",
      "metadata": {
        "id": "b1072084"
      },
      "outputs": [],
      "source": [
        "def factorial(n):\n",
        "    fact = 1\n",
        "    for i in range(1,n+1):\n",
        "        fact *=i\n",
        "\n",
        "    return fact\n",
        "factorial(5)"
      ]
    },
    {
      "cell_type": "markdown",
      "id": "a8cf921b",
      "metadata": {
        "id": "a8cf921b"
      },
      "source": [
        "## Default Argument"
      ]
    },
    {
      "cell_type": "code",
      "execution_count": null,
      "id": "1c8e6af8",
      "metadata": {
        "id": "1c8e6af8"
      },
      "outputs": [],
      "source": [
        "def func(name,age = 35):\n",
        "    print(\"name : \", name)\n",
        "    print(\"age : \",age)"
      ]
    },
    {
      "cell_type": "code",
      "execution_count": null,
      "id": "6f8d27bd",
      "metadata": {
        "id": "6f8d27bd"
      },
      "outputs": [],
      "source": [
        "func(\"Jane\",25)"
      ]
    },
    {
      "cell_type": "code",
      "execution_count": null,
      "id": "b0f32094",
      "metadata": {
        "id": "b0f32094"
      },
      "outputs": [],
      "source": [
        "func(\"Jane\")"
      ]
    },
    {
      "cell_type": "code",
      "execution_count": null,
      "id": "f22fceeb",
      "metadata": {
        "id": "f22fceeb"
      },
      "outputs": [],
      "source": [
        "def func(name,age = 35,city = \"Mumbai\"):\n",
        "    print(\"name : \",name)\n",
        "    print(\"age : \",age)\n",
        "    print(\"city : \",city)\n",
        "func(\"Jane\",city = \"Banglore\")"
      ]
    },
    {
      "cell_type": "code",
      "execution_count": null,
      "id": "5c34428c",
      "metadata": {
        "id": "5c34428c"
      },
      "outputs": [],
      "source": [
        "def var_func(*args):\n",
        "    print(args)\n",
        "\n",
        "var_func(1,3,\"abc\")"
      ]
    },
    {
      "cell_type": "markdown",
      "id": "c42beb07",
      "metadata": {
        "id": "c42beb07"
      },
      "source": [
        "<h1 style=\"color:Brown\"> Lambda Function </h1>"
      ]
    },
    {
      "cell_type": "code",
      "execution_count": null,
      "id": "5c67989e",
      "metadata": {
        "id": "5c67989e"
      },
      "outputs": [],
      "source": [
        "# Write a lambda function to check a number is even or odd\n",
        "\n",
        "f = lambda x : \"even\" if x%2==0 else \"odd\"\n",
        "f(10)"
      ]
    },
    {
      "cell_type": "markdown",
      "id": "e4a20c60",
      "metadata": {
        "id": "e4a20c60"
      },
      "source": [
        "### Ex.Write a lambda function to perform addition of two numbers"
      ]
    },
    {
      "cell_type": "code",
      "execution_count": null,
      "id": "a6aa3fa9",
      "metadata": {
        "id": "a6aa3fa9"
      },
      "outputs": [],
      "source": [
        "f = lambda x,y : x+y\n",
        "f(2,5)"
      ]
    },
    {
      "cell_type": "markdown",
      "id": "90043f8c",
      "metadata": {
        "id": "90043f8c"
      },
      "source": [
        "<h1 style=\"color:Brown\"> Map - Filter - Reduce </h1>"
      ]
    },
    {
      "cell_type": "code",
      "execution_count": null,
      "id": "59d11033",
      "metadata": {
        "id": "59d11033"
      },
      "outputs": [],
      "source": [
        "countries = [\"India\",\"Japan\",\"Italy\",\"France\"]"
      ]
    },
    {
      "cell_type": "markdown",
      "id": "d372984e",
      "metadata": {
        "id": "d372984e"
      },
      "source": [
        "### Map the list to obtained the names of countries in upper case"
      ]
    },
    {
      "cell_type": "code",
      "execution_count": null,
      "id": "36b98b8b",
      "metadata": {
        "id": "36b98b8b"
      },
      "outputs": [],
      "source": [
        "list(map(lambda x : x.upper(),countries))"
      ]
    },
    {
      "cell_type": "code",
      "execution_count": null,
      "id": "a400a4f4",
      "metadata": {
        "id": "a400a4f4"
      },
      "outputs": [],
      "source": [
        "list(map(lambda x : x.lower(),countries))"
      ]
    },
    {
      "cell_type": "code",
      "execution_count": null,
      "id": "36ff2f98",
      "metadata": {
        "id": "36ff2f98"
      },
      "outputs": [],
      "source": [
        "list(map(lambda x:x.upper(),countries))"
      ]
    },
    {
      "cell_type": "markdown",
      "id": "417505c0",
      "metadata": {
        "id": "417505c0"
      },
      "source": [
        "### Filter the countries names starting with \"I\""
      ]
    },
    {
      "cell_type": "code",
      "execution_count": null,
      "id": "a51e8f2f",
      "metadata": {
        "id": "a51e8f2f"
      },
      "outputs": [],
      "source": [
        "list(filter(lambda x: x.startswith(\"I\"),countries))"
      ]
    },
    {
      "cell_type": "markdown",
      "id": "49bd4cb5",
      "metadata": {
        "id": "49bd4cb5"
      },
      "source": [
        "### reduce the list to concatante the countries names into a single string by \" \""
      ]
    },
    {
      "cell_type": "code",
      "execution_count": null,
      "id": "e76811f2",
      "metadata": {
        "id": "e76811f2"
      },
      "outputs": [],
      "source": [
        "from functools import reduce\n",
        "reduce(lambda x,y:x + \" \"+ y,countries)"
      ]
    },
    {
      "cell_type": "markdown",
      "id": "5009154c",
      "metadata": {
        "id": "5009154c"
      },
      "source": [
        "some more examples on map-filter-reduce\n"
      ]
    },
    {
      "cell_type": "code",
      "execution_count": null,
      "id": "a97031ca",
      "metadata": {
        "id": "a97031ca"
      },
      "outputs": [],
      "source": [
        "l1 = [2,4,5]\n",
        "print(map(lambda x: x**2,l1))\n",
        "print(list(map(lambda x : x**2,l1)))"
      ]
    },
    {
      "cell_type": "markdown",
      "id": "d69993a5",
      "metadata": {
        "id": "d69993a5"
      },
      "source": [
        "Defining a function and using it in map"
      ]
    },
    {
      "cell_type": "code",
      "execution_count": null,
      "id": "4cf9f021",
      "metadata": {
        "id": "4cf9f021"
      },
      "outputs": [],
      "source": [
        "l1 = [2,4,5]\n",
        "def squareit(n):\n",
        "    return n**2\n",
        "print(list(map(squareit,l1)))"
      ]
    },
    {
      "cell_type": "markdown",
      "id": "df2e1fb1",
      "metadata": {
        "id": "df2e1fb1"
      },
      "source": [
        "Filter function to return the multiples of 3"
      ]
    },
    {
      "cell_type": "code",
      "execution_count": null,
      "id": "998794e5",
      "metadata": {
        "id": "998794e5"
      },
      "outputs": [],
      "source": [
        "my_list = [3,4,5,6,7,8,9]\n",
        "\n",
        "divby3 = lambda x : x% 3 == 0\n",
        "\n",
        "div = filter(divby3, my_list)\n",
        "print(list(div))"
      ]
    },
    {
      "cell_type": "markdown",
      "id": "addab6fa",
      "metadata": {
        "id": "addab6fa"
      },
      "source": [
        "Ex. Write a python program to count the students above age 18"
      ]
    },
    {
      "cell_type": "code",
      "execution_count": null,
      "id": "07eeebda",
      "metadata": {
        "id": "07eeebda"
      },
      "outputs": [],
      "source": [
        "students_data = {1:['Sam',15], 2:['Sharma',18],3:['Saina',16],4:['Saif',19],5:['Varun',20]}\n",
        "len(list(filter(lambda x : x[1] > 18,students_data.values())))"
      ]
    },
    {
      "cell_type": "raw",
      "id": "f39da0bd",
      "metadata": {
        "id": "f39da0bd"
      },
      "source": [
        "Reduce to return product of elements"
      ]
    },
    {
      "cell_type": "code",
      "execution_count": null,
      "id": "36afd32f",
      "metadata": {
        "id": "36afd32f"
      },
      "outputs": [],
      "source": [
        "from functools import reduce"
      ]
    },
    {
      "cell_type": "code",
      "execution_count": null,
      "id": "e310aab1",
      "metadata": {
        "id": "e310aab1"
      },
      "outputs": [],
      "source": [
        "q=reduce(lambda x, y: x*y, range(1,4))\n",
        "print(q)"
      ]
    },
    {
      "cell_type": "markdown",
      "id": "9426c38d",
      "metadata": {
        "id": "9426c38d"
      },
      "source": [
        "<h1 style = \"color : Blue\"> Object Oriented Program in Python"
      ]
    },
    {
      "cell_type": "markdown",
      "id": "76a461d0",
      "metadata": {
        "id": "76a461d0"
      },
      "source": [
        "## 1. Creating Classes and objects"
      ]
    },
    {
      "cell_type": "markdown",
      "id": "1f566c99",
      "metadata": {
        "id": "1f566c99"
      },
      "source": [
        "### Defining a class\n",
        "- length and breadth as attributes\n",
        "- init() - constructor of class\n",
        "- self parameter-refers to the newly created instance of the class.\n",
        "- attributes length and breadth are associated with self-keyword to identify them as instance variables"
      ]
    },
    {
      "cell_type": "code",
      "execution_count": null,
      "id": "9e240f99",
      "metadata": {
        "id": "9e240f99"
      },
      "outputs": [],
      "source": [
        "class Rectangle :\n",
        "    def __init__(self):\n",
        "        self.length = 10\n",
        "        self.breadth = 5"
      ]
    },
    {
      "cell_type": "code",
      "execution_count": null,
      "id": "5ca59ea7",
      "metadata": {
        "id": "5ca59ea7"
      },
      "outputs": [],
      "source": [
        "class Rectangle :\n",
        "    def __init__(self):\n",
        "        self.length = 10\n",
        "        self.breadth = 5"
      ]
    },
    {
      "cell_type": "markdown",
      "id": "3d6bbec2",
      "metadata": {
        "id": "3d6bbec2"
      },
      "source": [
        "- create the object by calling name of the class followed by parenthesis.\n",
        "- print the values using dot operator"
      ]
    },
    {
      "cell_type": "code",
      "execution_count": null,
      "id": "5c9d05af",
      "metadata": {
        "id": "5c9d05af",
        "outputId": "fc23ebe5-d8e1-488b-85d7-32fe2a037af8"
      },
      "outputs": [
        {
          "name": "stdout",
          "output_type": "stream",
          "text": [
            "Length =  10 \n",
            "Breadth =  5\n"
          ]
        }
      ],
      "source": [
        "rect = Rectangle()\n",
        "print(\"Length = \",rect.length,\"\\nBreadth = \", rect.breadth)"
      ]
    },
    {
      "cell_type": "markdown",
      "id": "ab6b9974",
      "metadata": {
        "id": "ab6b9974"
      },
      "source": [
        "### Parametrised constructor\n",
        "- parametrised constructor - dynamically asssign the attribute values during object creation"
      ]
    },
    {
      "cell_type": "code",
      "execution_count": null,
      "id": "76166f50",
      "metadata": {
        "id": "76166f50",
        "outputId": "9b66fa60-9429-4fb4-9bd1-1a321e4c631d"
      },
      "outputs": [
        {
          "name": "stdout",
          "output_type": "stream",
          "text": [
            "Length =  10 \n",
            "breadth =  5\n"
          ]
        }
      ],
      "source": [
        "class Rectangle :\n",
        "    def __init__(self,length,breadth):\n",
        "        self.length = length\n",
        "        self.breadth = breadth\n",
        "\n",
        "rect = Rectangle(10, 5)\n",
        "print(\"Length = \",rect.length,\"\\nbreadth = \",rect.breadth)"
      ]
    },
    {
      "cell_type": "markdown",
      "id": "1459c190",
      "metadata": {
        "id": "1459c190"
      },
      "source": [
        "### ii. Class Variable and Instance variable"
      ]
    },
    {
      "cell_type": "code",
      "execution_count": null,
      "id": "424e8907",
      "metadata": {
        "id": "424e8907"
      },
      "outputs": [],
      "source": [
        "class Circle :\n",
        "    pi = 3.14\n",
        "    def __init__(self, radius):\n",
        "        self.radius = radius"
      ]
    },
    {
      "cell_type": "code",
      "execution_count": null,
      "id": "06c549d1",
      "metadata": {
        "id": "06c549d1",
        "outputId": "f31dc760-107c-496a-ef0d-d2bdebfacd19"
      },
      "outputs": [
        {
          "name": "stdout",
          "output_type": "stream",
          "text": [
            "Radius = 5 \t pi = 3.14\n",
            "Radius = 2 \t pi = 3.14\n"
          ]
        }
      ],
      "source": [
        "circle_1 = Circle(5)\n",
        "print(\"Radius = {} \\t pi = {}\".format(circle_1.radius,circle_1.pi))\n",
        "\n",
        "circle_2 = Circle(2)\n",
        "print(\"Radius = {} \\t pi = {}\".format(circle_2.radius,circle_2.pi))"
      ]
    },
    {
      "cell_type": "code",
      "execution_count": null,
      "id": "8b320c01",
      "metadata": {
        "id": "8b320c01",
        "outputId": "c65ecf45-50df-4489-d970-e69a953d4181"
      },
      "outputs": [
        {
          "name": "stdout",
          "output_type": "stream",
          "text": [
            "Radius = 5 \t pi = 3.1436\n",
            "Radius = 2 \t pi = 3.1436\n"
          ]
        }
      ],
      "source": [
        "Circle.pi = 3.1436\n",
        "\n",
        "circle_1 = Circle(5)\n",
        "print(\"Radius = {} \\t pi = {}\".format(circle_1.radius,circle_1.pi))\n",
        "\n",
        "circle_2 = Circle(2)\n",
        "print(\"Radius = {} \\t pi = {}\".format(circle_2.radius,circle_2.pi))"
      ]
    },
    {
      "cell_type": "markdown",
      "id": "96f4dfa4",
      "metadata": {
        "id": "96f4dfa4"
      },
      "source": [
        "### iii. Adding a method to class\n",
        "-calculate_area() - returns the product of attributes length and breadth\n",
        "- self - identifies its association with the instance"
      ]
    },
    {
      "cell_type": "code",
      "execution_count": null,
      "id": "7ba7230f",
      "metadata": {
        "id": "7ba7230f",
        "outputId": "77579fea-ef7e-4f80-9053-c56868733f3e"
      },
      "outputs": [
        {
          "name": "stdout",
          "output_type": "stream",
          "text": [
            "Length =  10 \n",
            "Breadth =  5 \n",
            "Area =  50\n"
          ]
        }
      ],
      "source": [
        "class Rectangle :\n",
        "    def __init__(self, length, breadth):\n",
        "        self.length = length\n",
        "        self.breadth = breadth\n",
        "\n",
        "    def calculate_area(self):\n",
        "        return self.length * self.breadth\n",
        "\n",
        "rect = Rectangle(10,5)\n",
        "print(\"Length = \",rect.length, \"\\nBreadth = \" ,rect.breadth, \"\\nArea = \", rect.calculate_area())"
      ]
    },
    {
      "cell_type": "markdown",
      "id": "19cce013",
      "metadata": {
        "id": "19cce013"
      },
      "source": [
        "### Significance of self :\n",
        "- The attributes length and breadth are associated with an instance.\n",
        "- Self makes sure that each instance refers to its own copy of attributes"
      ]
    },
    {
      "cell_type": "code",
      "execution_count": null,
      "id": "e8bf3317",
      "metadata": {
        "id": "e8bf3317",
        "outputId": "710683ef-bbd9-4b47-b8b2-e0d19e98b846"
      },
      "outputs": [
        {
          "name": "stdout",
          "output_type": "stream",
          "text": [
            "Length =  15 \n",
            "Breadth =  8 \n",
            "Area =  120\n"
          ]
        }
      ],
      "source": [
        "new_rect = Rectangle(15, 8)\n",
        "print(\"Length = \",new_rect.length, \"\\nBreadth = \" ,new_rect.breadth, \"\\nArea = \", new_rect.calculate_area())"
      ]
    },
    {
      "cell_type": "code",
      "execution_count": null,
      "id": "da0ca843",
      "metadata": {
        "id": "da0ca843",
        "outputId": "528aaff4-01a2-4a5c-c3e2-1adf12a12a75"
      },
      "outputs": [
        {
          "name": "stdout",
          "output_type": "stream",
          "text": [
            "Length =  10 \n",
            "Breadth =  5 \n",
            "Area =  50\n"
          ]
        }
      ],
      "source": [
        "print(\"Length = \",rect.length, \"\\nBreadth = \" ,rect.breadth, \"\\nArea = \", rect.calculate_area())"
      ]
    },
    {
      "cell_type": "markdown",
      "id": "b99d0d60",
      "metadata": {
        "id": "b99d0d60"
      },
      "source": [
        "### iv. Class Method and static method"
      ]
    },
    {
      "cell_type": "code",
      "execution_count": null,
      "id": "0440c43a",
      "metadata": {
        "id": "0440c43a"
      },
      "outputs": [],
      "source": [
        "class Circle :\n",
        "    pi = 3.14\n",
        "    def __init__(self, radius):\n",
        "        self.radius = radius\n",
        "\n",
        "    # Instance Method\n",
        "    def calculate_area(self):\n",
        "        return Circle.pi * self.radius\n",
        "\n",
        "    # Class Method - It cannot access - radius\n",
        "    @classmethod\n",
        "    def access_pi(cls):\n",
        "        cls.pi = 3.1436\n",
        "\n",
        "    # Static Method -  It cannot access - pi and radius\n",
        "    @staticmethod\n",
        "    def circle_static_method():\n",
        "        print(\"This is circle's static method\")\n",
        "\n",
        "cir = Circle(5)"
      ]
    },
    {
      "cell_type": "markdown",
      "id": "a717e8dc",
      "metadata": {
        "id": "a717e8dc"
      },
      "source": [
        "### V.Inheritance and overriding"
      ]
    },
    {
      "cell_type": "code",
      "execution_count": null,
      "id": "4b529320",
      "metadata": {
        "id": "4b529320"
      },
      "outputs": [],
      "source": [
        "class Shape :\n",
        "\n",
        "\n",
        "    def set_color(self, color):\n",
        "        self.color = color\n",
        "\n",
        "    def calculate_area(self):\n",
        "        pass\n",
        "\n",
        "    def color_the_shape(self):\n",
        "        color_price = {\"red\" : 10, \"blue\" : 15, \"green\" : 5}\n",
        "        return self.calculate_area() * color_price[self.color]"
      ]
    },
    {
      "cell_type": "code",
      "execution_count": null,
      "id": "2cf8643e",
      "metadata": {
        "id": "2cf8643e"
      },
      "outputs": [],
      "source": [
        "class Circle(Shape) :\n",
        "    pi = 3.14\n",
        "    def __init__(self, radius):\n",
        "        self.radius = radius\n",
        "\n",
        "    def calculate_area(self):\n",
        "        return Circle.pi * self.radius"
      ]
    },
    {
      "cell_type": "code",
      "execution_count": null,
      "id": "1016107d",
      "metadata": {
        "id": "1016107d",
        "outputId": "79c827a2-677b-423c-bff5-041e12a5edc4"
      },
      "outputs": [
        {
          "name": "stdout",
          "output_type": "stream",
          "text": [
            "Circle with radius = 5 when colored red costs $ 157.0\n"
          ]
        }
      ],
      "source": [
        "c = Circle(5)\n",
        "c.set_color(\"red\")\n",
        "print(\"Circle with radius =\",c.radius ,\"when colored\", c.color,\"costs $\",c.color_the_shape())"
      ]
    },
    {
      "cell_type": "code",
      "execution_count": null,
      "id": "207c54df",
      "metadata": {
        "id": "207c54df"
      },
      "outputs": [],
      "source": [
        "class Rectangle(Shape) :\n",
        "    def __init__(self, length, breadth):\n",
        "        self.length = length\n",
        "        self.breadth = breadth\n",
        "\n",
        "     # Overriding user defined method\n",
        "    def calculate_area(self):\n",
        "        return self.length * self.breadth\n",
        "\n",
        "    # Overriding python default method\n",
        "    def __str__(self):\n",
        "        return \"area of rectangle = \" + str(self.calculate_area())"
      ]
    },
    {
      "cell_type": "code",
      "execution_count": null,
      "id": "19f1b7a4",
      "metadata": {
        "id": "19f1b7a4",
        "outputId": "f62e15c4-5e69-4b11-b63f-fabe527bbdd2"
      },
      "outputs": [
        {
          "name": "stdout",
          "output_type": "stream",
          "text": [
            "Rectangle with length = 5  and breadth =  10 when colored blue costs $ 750\n"
          ]
        }
      ],
      "source": [
        "r = Rectangle(5, 10)\n",
        "r.set_color(\"blue\")\n",
        "print(\"Rectangle with length =\",r.length ,\" and breadth = \",r.breadth ,\"when colored\", r.color,\"costs $\",r.color_the_shape())"
      ]
    },
    {
      "cell_type": "code",
      "execution_count": null,
      "id": "98c8b09f",
      "metadata": {
        "id": "98c8b09f",
        "outputId": "72613b20-e590-4a70-edda-5df8af8f35ed"
      },
      "outputs": [
        {
          "name": "stdout",
          "output_type": "stream",
          "text": [
            "area of rectangle = 50\n"
          ]
        }
      ],
      "source": [
        "print(r)"
      ]
    },
    {
      "cell_type": "code",
      "execution_count": null,
      "id": "d8ac7f3a",
      "metadata": {
        "id": "d8ac7f3a",
        "outputId": "d83f2ebc-40fe-4459-924c-f920c614daca"
      },
      "outputs": [
        {
          "name": "stdout",
          "output_type": "stream",
          "text": [
            "C\n"
          ]
        }
      ],
      "source": [
        "class A:\n",
        "\n",
        "    def __init__(self):\n",
        "        self.p = 10\n",
        "        print(\"C\")\n",
        "\n",
        "    @classmethod\n",
        "    def stat(cls):\n",
        "        print(cls, type(cls), cls.p)\n",
        "\n",
        "c = A()"
      ]
    },
    {
      "cell_type": "code",
      "execution_count": null,
      "id": "24e43d53",
      "metadata": {
        "id": "24e43d53",
        "outputId": "50b4a5d0-77ff-441b-aa9e-5def8e162e4a"
      },
      "outputs": [
        {
          "ename": "AttributeError",
          "evalue": "type object 'A' has no attribute 'p'",
          "output_type": "error",
          "traceback": [
            "\u001b[1;31m---------------------------------------------------------------------------\u001b[0m",
            "\u001b[1;31mAttributeError\u001b[0m                            Traceback (most recent call last)",
            "Cell \u001b[1;32mIn [99], line 1\u001b[0m\n\u001b[1;32m----> 1\u001b[0m \u001b[43mc\u001b[49m\u001b[38;5;241;43m.\u001b[39;49m\u001b[43mstat\u001b[49m\u001b[43m(\u001b[49m\u001b[43m)\u001b[49m\n",
            "Cell \u001b[1;32mIn [98], line 9\u001b[0m, in \u001b[0;36mA.stat\u001b[1;34m(cls)\u001b[0m\n\u001b[0;32m      7\u001b[0m \u001b[38;5;129m@classmethod\u001b[39m\n\u001b[0;32m      8\u001b[0m \u001b[38;5;28;01mdef\u001b[39;00m \u001b[38;5;21mstat\u001b[39m(\u001b[38;5;28mcls\u001b[39m):\n\u001b[1;32m----> 9\u001b[0m     \u001b[38;5;28mprint\u001b[39m(\u001b[38;5;28mcls\u001b[39m, \u001b[38;5;28mtype\u001b[39m(\u001b[38;5;28mcls\u001b[39m), \u001b[38;5;28;43mcls\u001b[39;49m\u001b[38;5;241;43m.\u001b[39;49m\u001b[43mp\u001b[49m)\n",
            "\u001b[1;31mAttributeError\u001b[0m: type object 'A' has no attribute 'p'"
          ]
        }
      ],
      "source": [
        "c.stat()"
      ]
    },
    {
      "cell_type": "code",
      "execution_count": null,
      "id": "d60e0f75",
      "metadata": {
        "id": "d60e0f75",
        "outputId": "05a93f31-eb42-426d-e065-cb29dc824f23"
      },
      "outputs": [
        {
          "ename": "AttributeError",
          "evalue": "type object 'A' has no attribute 'p'",
          "output_type": "error",
          "traceback": [
            "\u001b[1;31m---------------------------------------------------------------------------\u001b[0m",
            "\u001b[1;31mAttributeError\u001b[0m                            Traceback (most recent call last)",
            "Cell \u001b[1;32mIn [100], line 1\u001b[0m\n\u001b[1;32m----> 1\u001b[0m \u001b[43mA\u001b[49m\u001b[38;5;241;43m.\u001b[39;49m\u001b[43mstat\u001b[49m\u001b[43m(\u001b[49m\u001b[43m)\u001b[49m\n",
            "Cell \u001b[1;32mIn [98], line 9\u001b[0m, in \u001b[0;36mA.stat\u001b[1;34m(cls)\u001b[0m\n\u001b[0;32m      7\u001b[0m \u001b[38;5;129m@classmethod\u001b[39m\n\u001b[0;32m      8\u001b[0m \u001b[38;5;28;01mdef\u001b[39;00m \u001b[38;5;21mstat\u001b[39m(\u001b[38;5;28mcls\u001b[39m):\n\u001b[1;32m----> 9\u001b[0m     \u001b[38;5;28mprint\u001b[39m(\u001b[38;5;28mcls\u001b[39m, \u001b[38;5;28mtype\u001b[39m(\u001b[38;5;28mcls\u001b[39m), \u001b[38;5;28;43mcls\u001b[39;49m\u001b[38;5;241;43m.\u001b[39;49m\u001b[43mp\u001b[49m)\n",
            "\u001b[1;31mAttributeError\u001b[0m: type object 'A' has no attribute 'p'"
          ]
        }
      ],
      "source": [
        "A.stat()"
      ]
    },
    {
      "cell_type": "code",
      "execution_count": null,
      "id": "b84f2903",
      "metadata": {
        "id": "b84f2903"
      },
      "outputs": [],
      "source": []
    }
  ],
  "metadata": {
    "kernelspec": {
      "display_name": "Python 3 (ipykernel)",
      "language": "python",
      "name": "python3"
    },
    "language_info": {
      "codemirror_mode": {
        "name": "ipython",
        "version": 3
      },
      "file_extension": ".py",
      "mimetype": "text/x-python",
      "name": "python",
      "nbconvert_exporter": "python",
      "pygments_lexer": "ipython3",
      "version": "3.10.9"
    },
    "colab": {
      "provenance": [],
      "include_colab_link": true
    }
  },
  "nbformat": 4,
  "nbformat_minor": 5
}